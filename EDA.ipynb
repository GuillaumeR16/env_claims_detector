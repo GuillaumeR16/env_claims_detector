{
  "cells": [
    {
      "cell_type": "code",
      "execution_count": 1,
      "metadata": {
        "id": "ZGD6SMHY6JJz"
      },
      "outputs": [],
      "source": [
        "# Import standard libraries\n",
        "import pandas as pd\n",
        "import matplotlib.pyplot as plt\n",
        "import seaborn as sns\n",
        "import numpy as np\n",
        "\n",
        "# Import for text analytics\n",
        "import spacy\n",
        "from spacy import displacy\n",
        "import string\n",
        "from collections import Counter\n",
        "import re\n",
        "\n",
        "\n",
        "# Import for text analytics\n",
        "import spacy\n",
        "from spacy import displacy\n",
        "import string\n",
        "\n",
        "# Load English language model of spacy\n",
        "sp = spacy.load('en_core_web_sm')"
      ]
    },
    {
      "attachments": {},
      "cell_type": "markdown",
      "metadata": {
        "id": "RtnVrPaTqHXb"
      },
      "source": [
        "# Introduction to the Notebook"
      ]
    },
    {
      "attachments": {},
      "cell_type": "markdown",
      "metadata": {},
      "source": [
        "The primary purpose of this notebook is:\n",
        "\n",
        "- Data exploration \n",
        "- Understanding opportunities and limitations\n",
        "- Creating research foundation for model"
      ]
    },
    {
      "attachments": {},
      "cell_type": "markdown",
      "metadata": {},
      "source": [
        "The notebook is built as the following:\n",
        "- Dataset import and discovery\n",
        "- Exploratory Data Analyses (EDA)\n",
        "    - Explore word/sentence correlation\n",
        "    - Look at company affiliation \n",
        "    - Understand time period of given data"
      ]
    },
    {
      "attachments": {},
      "cell_type": "markdown",
      "metadata": {
        "id": "4mTqbuG16ObS"
      },
      "source": [
        "# Prelimanary Analysis"
      ]
    },
    {
      "attachments": {},
      "cell_type": "markdown",
      "metadata": {
        "id": "mYy7gQ2buGGY"
      },
      "source": [
        "### Data explanation \n",
        "The dataset from the ETH Zürich research department is publicly available on [huggingface](https://huggingface.co/datasets/climatebert/environmental_claims/tree/main) to stimulate continuous research and collaboration to advance on sustainability actions globally. The dataset contains 3000 human-annotated environmental claims. Within the dataset, 16 domain experts labelled a claim to be environmentally based on the definition of an environmental claim, which is the following: An environmental claim “refers to the practice of suggesting or otherwise creating the impression (in the context of a commercial communication, marketing or advertising) that a product or a service is environmentally friendly (i.e., it has a positive impact on the environment) or is less damaging to the environment than competing goods or services.” Important to note is that the dataset solely focuses on claims of a length between 10 to 40 words. In addition, all the claims in the dataset have been made in sustainability reports, earning calls, and annual reports. Lastly, it is important to keep in mind that the dataset, might be biased, since it was mainly built based on financial claim statements. Therefore, when exploring Greenwashing in another sector, the accuracy of the model can not be guaranteed.\n"
      ]
    },
    {
      "attachments": {},
      "cell_type": "markdown",
      "metadata": {
        "id": "1Hk47yXz5FCa"
      },
      "source": [
        "### Import data set"
      ]
    },
    {
      "cell_type": "code",
      "execution_count": 2,
      "metadata": {
        "id": "buoSufuM4_nm"
      },
      "outputs": [],
      "source": [
        "# Import training dataset\n",
        "url_train = \"https://github.com/Clahrens/corporate_greenwashing/raw/main/data_environmental_claims/train.jsonl\"\n",
        "df_train = pd.read_json(url_train, lines=True)\n",
        "\n",
        "# Import testing dataset\n",
        "url_test = \"https://github.com/Clahrens/corporate_greenwashing/raw/main/data_environmental_claims/test.jsonl\"\n",
        "df_test = pd.read_json(url_test, lines=True)"
      ]
    },
    {
      "attachments": {},
      "cell_type": "markdown",
      "metadata": {
        "id": "5KCoTkV-5JUZ"
      },
      "source": [
        "### Dataset Discovery"
      ]
    },
    {
      "cell_type": "code",
      "execution_count": 3,
      "metadata": {
        "colab": {
          "base_uri": "https://localhost:8080/",
          "height": 340
        },
        "id": "pXvMwr4wuGGZ",
        "outputId": "9a82704a-3f11-450c-de2c-78d3a52dd0a7"
      },
      "outputs": [],
      "source": [
        "import spacy\n",
        "import unidecode\n",
        "sp = spacy.load(\"en_core_web_sm\")"
      ]
    },
    {
      "cell_type": "code",
      "execution_count": 4,
      "metadata": {
        "colab": {
          "base_uri": "https://localhost:8080/",
          "height": 714
        },
        "id": "ZZZVFih24_p2",
        "outputId": "fe657704-7b32-4a73-a53e-3c6e6f770c5c"
      },
      "outputs": [
        {
          "name": "stdout",
          "output_type": "stream",
          "text": [
            "Information on the training dataset:\n",
            "---------------------------------------------\n",
            "\n",
            "There are 2400 observations in the training dataset.\n",
            "\n",
            "\n",
            " - There are 1858 observations that are not related to the environment (label = 0)\n",
            " - There are 542 observations that are environmental claims (label = 1).\n",
            " - The ratio of environmental claims is 22.58%.\n"
          ]
        },
        {
          "data": {
            "image/png": "[encoded data removed]",
            "text/plain": [
              "<Figure size 640x480 with 1 Axes>"
            ]
          },
          "metadata": {},
          "output_type": "display_data"
        },
        {
          "name": "stdout",
          "output_type": "stream",
          "text": [
            "Example of Environmental Claim:\n",
            "The goal to reduce relative GHG emissions by 20% by 2020 was achieved in 2013.\n",
            "\n",
            "Example of Non-Environmental Claim:\n",
            "As part of this program we are expecting to increase the seat density on our Airbus A320 fleet.\n"
          ]
        }
      ],
      "source": [
        "# Information on the training dataset\n",
        "print(\"Information on the training dataset:\")\n",
        "print(f\"{'-' * 45}\")\n",
        "print('')\n",
        "\n",
        "# display the number of observations\n",
        "num_observations = len(df_train)\n",
        "print(f\"There are {num_observations} observations in the training dataset.\")\n",
        "print('')\n",
        "print('')\n",
        "\n",
        "# display the number of observations per class\n",
        "num_0 = (df_train['label'] == 0).sum()\n",
        "num_1 = (df_train['label'] == 1).sum()\n",
        "ratio = (num_1/num_observations)*100\n",
        "print(f\" - There are {num_0} observations that are not related to the environment (label = 0)\")\n",
        "print(f\" - There are {num_1} observations that are environmental claims (label = 1).\")\n",
        "print(f\" - The ratio of environmental claims is {ratio:.2f}%.\")\n",
        "\n",
        "#plot \n",
        "column_name = 'label'\n",
        "value_counts = df_train[column_name].value_counts()\n",
        "sns.barplot(x=value_counts.index, y=value_counts.values)\n",
        "plt.title(f'Number of observations per class (training set)')\n",
        "plt.xlabel(column_name)\n",
        "plt.ylabel('count')\n",
        "plt.xticks([0, 1])\n",
        "plt.show()\n",
        "\n",
        "# Diclose exemples of claims  \n",
        "label_1_indexes = df_train[df_train['label'] == 1].index\n",
        "label_1_observation = df_train.loc[label_1_indexes[0], 'text']\n",
        "print(f\"Example of Environmental Claim:\\n{label_1_observation}\")\n",
        "print('')\n",
        "label_0_indexes = df_train[df_train['label'] == 0].index\n",
        "label_0_observation = df_train.loc[label_0_indexes[123], 'text']\n",
        "print(f\"Example of Non-Environmental Claim:\\n{label_0_observation}\")"
      ]
    },
    {
      "cell_type": "code",
      "execution_count": 5,
      "metadata": {
        "colab": {
          "base_uri": "https://localhost:8080/",
          "height": 714
        },
        "id": "Aapg_n834_r8",
        "outputId": "941895e4-75ba-4ec1-e541-7e92bf164133"
      },
      "outputs": [
        {
          "name": "stdout",
          "output_type": "stream",
          "text": [
            "Information on the testing dataset:\n",
            "---------------------------------------------\n",
            "\n",
            "There are 300 observations in the testing dataset.\n",
            "\n",
            "\n",
            "- There are 236 observations that are not related to the environment (label = 0)\n",
            "- There are 64 observations that are environmental claims (label = 1).\n",
            "- The ratio of environmental claims is 21.33%.\n"
          ]
        },
        {
          "data": {
            "image/png": "[encoded data removed]",
            "text/plain": [
              "<Figure size 640x480 with 1 Axes>"
            ]
          },
          "metadata": {},
          "output_type": "display_data"
        },
        {
          "name": "stdout",
          "output_type": "stream",
          "text": [
            "Exemple of Environmental Claim:\n",
            "1,3-BAC easy to use, and its fast curing speed reduces the environmental impact of the production process.\n",
            "\n",
            "Example of Non Environmental Claim:\n",
            "So cohorts like young moms and young dads and broader audiences, that's been very important.\n"
          ]
        }
      ],
      "source": [
        "# Information on the testing dataset\n",
        "print(\"Information on the testing dataset:\")\n",
        "print(f\"{'-' * 45}\")\n",
        "print('')\n",
        "\n",
        "# display the number of observations\n",
        "num_observations = len(df_test)\n",
        "print(f\"There are {num_observations} observations in the testing dataset.\")\n",
        "print('')\n",
        "print('')\n",
        "\n",
        "# display the number of observations per class\n",
        "num_0 = (df_test['label'] == 0).sum()\n",
        "num_1 = (df_test['label'] == 1).sum()\n",
        "ratio = (num_1/num_observations)*100\n",
        "print(f\"- There are {num_0} observations that are not related to the environment (label = 0)\")\n",
        "print(f\"- There are {num_1} observations that are environmental claims (label = 1).\")\n",
        "print(f\"- The ratio of environmental claims is {ratio:.2f}%.\")\n",
        "\n",
        "#plot \n",
        "column_name = 'label'\n",
        "value_counts = df_test[column_name].value_counts()\n",
        "sns.barplot(x=value_counts.index,y=value_counts.values)\n",
        "plt.title(f'Number of observations per class (testing set)')\n",
        "plt.xlabel(column_name)\n",
        "plt.ylabel('Count')\n",
        "plt.xticks([0, 1])\n",
        "plt.show()\n",
        "\n",
        "# Diclose exemples of claims  \n",
        "label_1_indexes = df_test[df_test['label'] == 1].index\n",
        "label_1_observation = df_test.loc[label_1_indexes[1], 'text']\n",
        "print(f\"Exemple of Environmental Claim:\\n{label_1_observation}\")\n",
        "print('')\n",
        "label_0_indexes = df_test[df_test['label'] == 0].index\n",
        "label_0_observation = df_test.loc[label_0_indexes[123], 'text']\n",
        "print(f\"Example of Non Environmental Claim:\\n{label_0_observation}\")\n"
      ]
    },
    {
      "attachments": {},
      "cell_type": "markdown",
      "metadata": {
        "id": "zyjfdNsevQsX"
      },
      "source": [
        "After evaluating the information provided, it can be determined that our **default rate is 78.67%** (100% - 21.33%). This percentage holds significance as it will serve as the benchmark for comparing our predictive model in subsequent analysis.\n",
        "\n",
        "Furthermore, based on the initial analysis conducted earlier, we have identified two instances of sentences classified as environmental claims. In the subsequent section of the exploratory data analysis (EDA), we will delve deeper into the specific words that form these sentences."
      ]
    },
    {
      "attachments": {},
      "cell_type": "markdown",
      "metadata": {
        "id": "SBckEo1PuGGc"
      },
      "source": [
        "# Exploratory Data Analysis (EDA)"
      ]
    },
    {
      "attachments": {},
      "cell_type": "markdown",
      "metadata": {
        "id": "w2njbrIxuGGd"
      },
      "source": [
        "For the following analyses, we take a closer look at the training set of non-/ environmental claims."
      ]
    },
    {
      "attachments": {},
      "cell_type": "markdown",
      "metadata": {
        "id": "GEb353YjuGGg"
      },
      "source": [
        "#### 1. Explore words within sentences\n",
        "First, we take apart individual sentences to look at single words of the sentence. The goal is to explore and understand the constitution of sentences within out dataset. "
      ]
    },
    {
      "cell_type": "code",
      "execution_count": 6,
      "metadata": {
        "colab": {
          "base_uri": "https://localhost:8080/"
        },
        "id": "-JT73VnFuGGg",
        "outputId": "43c3a04b-f641-479e-e99e-d9682fe02859"
      },
      "outputs": [
        {
          "name": "stdout",
          "output_type": "stream",
          "text": [
            "In total there are: 364767 words within the training dataset containing 2400 claims.\n",
            "The shortest sentence consists of: 11 words.\n",
            "The longest sentence consists of: 39 words.\n"
          ]
        },
        {
          "data": {
            "text/plain": [
              "count    2400.00000\n",
              "mean       24.44125\n",
              "std         7.54516\n",
              "min        11.00000\n",
              "25%        18.00000\n",
              "50%        24.00000\n",
              "75%        30.00000\n",
              "max        39.00000\n",
              "Name: word_count, dtype: float64"
            ]
          },
          "execution_count": 6,
          "metadata": {},
          "output_type": "execute_result"
        }
      ],
      "source": [
        "# Receive more information on the words within the claim\n",
        "\n",
        "# Total number of words per claim in the training set\n",
        "observations = len(df_train)\n",
        "words_number = df_train[\"text\"].apply(lambda x: len(x)).sum()\n",
        "words_min = df_train[\"text\"].apply(lambda x: len(x.split())).min()\n",
        "words_max = df_train[\"text\"].apply(lambda x: len(x.split())).max()\n",
        "print(\"In total there are:\", words_number, \"words within the training dataset containing\", observations,\"claims.\")\n",
        "print(\"The shortest sentence consists of:\", words_min, \"words.\")\n",
        "print(\"The longest sentence consists of:\", words_max, \"words.\")\n",
        "\n",
        "# Number of words per claim\n",
        "df_train[\"word_count\"] = df_train[\"text\"].apply(lambda x: len(x.split()))\n",
        "df_train[\"word_count\"].describe()"
      ]
    },
    {
      "attachments": {},
      "cell_type": "markdown",
      "metadata": {},
      "source": [
        "Important to keep in mind is that the training data excludes really short sentences as well as very long sentences, which might biases the model we are going to train.\n",
        "After having a numerical idea of words count, next up we will look at the content of these words."
      ]
    },
    {
      "cell_type": "code",
      "execution_count": 7,
      "metadata": {
        "colab": {
          "base_uri": "https://localhost:8080/",
          "height": 1000
        },
        "id": "fbyurCfSuGGh",
        "outputId": "e77347a3-73e8-4350-c691-c560c2f50aec"
      },
      "outputs": [
        {
          "data": {
            "text/html": [
              "<div>\n",
              "<style scoped>\n",
              "    .dataframe tbody tr th:only-of-type {\n",
              "        vertical-align: middle;\n",
              "    }\n",
              "\n",
              "    .dataframe tbody tr th {\n",
              "        vertical-align: top;\n",
              "    }\n",
              "\n",
              "    .dataframe thead th {\n",
              "        text-align: right;\n",
              "    }\n",
              "</style>\n",
              "<table border=\"1\" class=\"dataframe\">\n",
              "  <thead>\n",
              "    <tr style=\"text-align: right;\">\n",
              "      <th></th>\n",
              "      <th>Frequency</th>\n",
              "    </tr>\n",
              "    <tr>\n",
              "      <th>Word</th>\n",
              "      <th></th>\n",
              "    </tr>\n",
              "  </thead>\n",
              "  <tbody>\n",
              "    <tr>\n",
              "      <th>the</th>\n",
              "      <td>2796</td>\n",
              "    </tr>\n",
              "    <tr>\n",
              "      <th>and</th>\n",
              "      <td>1975</td>\n",
              "    </tr>\n",
              "    <tr>\n",
              "      <th>to</th>\n",
              "      <td>1969</td>\n",
              "    </tr>\n",
              "    <tr>\n",
              "      <th>of</th>\n",
              "      <td>1770</td>\n",
              "    </tr>\n",
              "    <tr>\n",
              "      <th>in</th>\n",
              "      <td>1320</td>\n",
              "    </tr>\n",
              "    <tr>\n",
              "      <th>a</th>\n",
              "      <td>895</td>\n",
              "    </tr>\n",
              "    <tr>\n",
              "      <th>our</th>\n",
              "      <td>843</td>\n",
              "    </tr>\n",
              "    <tr>\n",
              "      <th>we</th>\n",
              "      <td>696</td>\n",
              "    </tr>\n",
              "    <tr>\n",
              "      <th>that</th>\n",
              "      <td>635</td>\n",
              "    </tr>\n",
              "    <tr>\n",
              "      <th>is</th>\n",
              "      <td>587</td>\n",
              "    </tr>\n",
              "    <tr>\n",
              "      <th>for</th>\n",
              "      <td>549</td>\n",
              "    </tr>\n",
              "    <tr>\n",
              "      <th>with</th>\n",
              "      <td>463</td>\n",
              "    </tr>\n",
              "    <tr>\n",
              "      <th>on</th>\n",
              "      <td>452</td>\n",
              "    </tr>\n",
              "    <tr>\n",
              "      <th>as</th>\n",
              "      <td>406</td>\n",
              "    </tr>\n",
              "    <tr>\n",
              "      <th>are</th>\n",
              "      <td>356</td>\n",
              "    </tr>\n",
              "    <tr>\n",
              "      <th>by</th>\n",
              "      <td>336</td>\n",
              "    </tr>\n",
              "    <tr>\n",
              "      <th>The</th>\n",
              "      <td>312</td>\n",
              "    </tr>\n",
              "    <tr>\n",
              "      <th>energy</th>\n",
              "      <td>290</td>\n",
              "    </tr>\n",
              "    <tr>\n",
              "      <th>have</th>\n",
              "      <td>275</td>\n",
              "    </tr>\n",
              "    <tr>\n",
              "      <th>from</th>\n",
              "      <td>253</td>\n",
              "    </tr>\n",
              "  </tbody>\n",
              "</table>\n",
              "</div>"
            ],
            "text/plain": [
              "        Frequency\n",
              "Word             \n",
              "the          2796\n",
              "and          1975\n",
              "to           1969\n",
              "of           1770\n",
              "in           1320\n",
              "a             895\n",
              "our           843\n",
              "we            696\n",
              "that          635\n",
              "is            587\n",
              "for           549\n",
              "with          463\n",
              "on            452\n",
              "as            406\n",
              "are           356\n",
              "by            336\n",
              "The           312\n",
              "energy        290\n",
              "have          275\n",
              "from          253"
            ]
          },
          "metadata": {},
          "output_type": "display_data"
        },
        {
          "data": {
            "image/png": "[encoded data removed]",
            "text/plain": [
              "<Figure size 1200x800 with 1 Axes>"
            ]
          },
          "metadata": {},
          "output_type": "display_data"
        }
      ],
      "source": [
        "# Combine all claims' text into a single string\n",
        "all_text = ' '.join(df_train['text'].tolist())\n",
        "\n",
        "# Tokenize the text by splitting on whitespace\n",
        "words = all_text.split()\n",
        "\n",
        "# Count the occurrences of each word\n",
        "word_counts = Counter(words)\n",
        "\n",
        "# Get n most frequent words\n",
        "n = 20  # Specify the number of most frequent words I want to retrieve\n",
        "most_frequent_words = word_counts.most_common(n)\n",
        "\n",
        "# create a list of most frequent words\n",
        "most_common = [{\"Word\": word, \"Frequency\": frequency} for word, frequency in most_frequent_words]\n",
        "word_common = pd.DataFrame(most_common)\n",
        "word_common.set_index(\"Word\",inplace=True)\n",
        "display(word_common)\n",
        "\n",
        "#visualize the 10 most common words in a bar chart \n",
        "sns.set(style=\"whitegrid\")\n",
        "plt.figure(figsize=(12, 8))\n",
        "\n",
        "sns.barplot(x=word_common.index[:20], y=word_common[\"Frequency\"][:20], color=\"red\")\n",
        "plt.xlabel(\"Word\")\n",
        "plt.ylabel(\"Count\")\n",
        "plt.title(\"Top 20 most common words across all claims\", fontsize=16)\n",
        "plt.xticks(rotation=45)\n",
        "\n",
        "plt.show()"
      ]
    },
    {
      "attachments": {},
      "cell_type": "markdown",
      "metadata": {
        "id": "5Zn7Vc-1aySE"
      },
      "source": [
        "The provided bar charts indicate that the prevalent words in the dataset mainly consist of basic terms that do not contribute significant information regarding the central content of the phrases.\n",
        "\n",
        "Given this observation, the objective is to eliminate these words using adding more constraints on our tokenizer. By doing so, we can eliminate words that have minimal impact on the sentence's meaning and gain a clearer understanding of the central content.\n",
        "\n",
        "Now, we will specifically focus on environmental claims to conduct this analysis and identify the most frequently occurring words within them."
      ]
    },
    {
      "cell_type": "code",
      "execution_count": 8,
      "metadata": {
        "id": "P1EvFGy-SqEy"
      },
      "outputs": [],
      "source": [
        "# Create tokenizer function for preprocessing\n",
        "def spacy_tokenizer(text):\n",
        "\n",
        "    # Define stopwords, punctuation, and numbers\n",
        "    stop_words = spacy.lang.en.stop_words.STOP_WORDS\n",
        "    punctuations = string.punctuation +'–' + '—'\n",
        "    numbers = \"0123456789\"\n",
        "\n",
        "    # Create spacy object\n",
        "    mytokens = sp(text)\n",
        "\n",
        "    # Lemmatize each token and convert each token into lowercase\n",
        "    mytokens = ([ word.lemma_.lower().strip() for word in mytokens ])\n",
        "\n",
        "    # Remove stop words and punctuation\n",
        "    mytokens = ([ word for word in mytokens \n",
        "                 if word not in stop_words and word not in punctuations ])\n",
        "\n",
        "    # Remove sufix like \".[1\" in \"experience.[1\"\n",
        "    mytokens_2 = []\n",
        "    for word in mytokens:\n",
        "        for char in word:\n",
        "            if (char in punctuations) or (char in numbers):\n",
        "                word = word.replace(char, \"\")\n",
        "        if word != \"\":\n",
        "            mytokens_2.append(word)\n",
        "\n",
        "    # Return preprocessed list of tokens\n",
        "    return mytokens_2"
      ]
    },
    {
      "cell_type": "code",
      "execution_count": 9,
      "metadata": {
        "colab": {
          "base_uri": "https://localhost:8080/",
          "height": 424
        },
        "id": "x2YimzFsSRzc",
        "outputId": "7308c3a3-6f3a-4210-9024-fafc4ebfac80"
      },
      "outputs": [
        {
          "data": {
            "text/html": [
              "<div>\n",
              "<style scoped>\n",
              "    .dataframe tbody tr th:only-of-type {\n",
              "        vertical-align: middle;\n",
              "    }\n",
              "\n",
              "    .dataframe tbody tr th {\n",
              "        vertical-align: top;\n",
              "    }\n",
              "\n",
              "    .dataframe thead th {\n",
              "        text-align: right;\n",
              "    }\n",
              "</style>\n",
              "<table border=\"1\" class=\"dataframe\">\n",
              "  <thead>\n",
              "    <tr style=\"text-align: right;\">\n",
              "      <th></th>\n",
              "      <th>text</th>\n",
              "      <th>label</th>\n",
              "      <th>word_count</th>\n",
              "      <th>tokens</th>\n",
              "    </tr>\n",
              "  </thead>\n",
              "  <tbody>\n",
              "    <tr>\n",
              "      <th>0</th>\n",
              "      <td>It will enable E.ON to acquire and leverage a ...</td>\n",
              "      <td>0</td>\n",
              "      <td>34</td>\n",
              "      <td>[enable, eon, acquire, leverage, comprehensive...</td>\n",
              "    </tr>\n",
              "    <tr>\n",
              "      <th>1</th>\n",
              "      <td>And that's honestly most markets in the U.S. S...</td>\n",
              "      <td>0</td>\n",
              "      <td>37</td>\n",
              "      <td>[honestly, market, us, fact, think, opportunit...</td>\n",
              "    </tr>\n",
              "    <tr>\n",
              "      <th>2</th>\n",
              "      <td>A key pillar of our strategy is to continue to...</td>\n",
              "      <td>0</td>\n",
              "      <td>39</td>\n",
              "      <td>[key, pillar, strategy, continue, adapt, busin...</td>\n",
              "    </tr>\n",
              "    <tr>\n",
              "      <th>3</th>\n",
              "      <td>The goal to reduce relative GHG emissions by 2...</td>\n",
              "      <td>1</td>\n",
              "      <td>15</td>\n",
              "      <td>[goal, reduce, relative, ghg, emission, achieve]</td>\n",
              "    </tr>\n",
              "    <tr>\n",
              "      <th>4</th>\n",
              "      <td>As you know, we drove about $75 million of cos...</td>\n",
              "      <td>0</td>\n",
              "      <td>17</td>\n",
              "      <td>[know, drive, million, cost, synergy, year, fi...</td>\n",
              "    </tr>\n",
              "    <tr>\n",
              "      <th>...</th>\n",
              "      <td>...</td>\n",
              "      <td>...</td>\n",
              "      <td>...</td>\n",
              "      <td>...</td>\n",
              "    </tr>\n",
              "    <tr>\n",
              "      <th>2395</th>\n",
              "      <td>The collaboration will enable Nestlé to delive...</td>\n",
              "      <td>1</td>\n",
              "      <td>26</td>\n",
              "      <td>[collaboration, enable, nestlé, deliver, susta...</td>\n",
              "    </tr>\n",
              "    <tr>\n",
              "      <th>2396</th>\n",
              "      <td>Through the MOBILITY THAT ADAPTS TO MEET NEEDS...</td>\n",
              "      <td>0</td>\n",
              "      <td>35</td>\n",
              "      <td>[mobility, adapts, meet, need, renault, tech, ...</td>\n",
              "    </tr>\n",
              "    <tr>\n",
              "      <th>2397</th>\n",
              "      <td>While we are making progress towards our near ...</td>\n",
              "      <td>0</td>\n",
              "      <td>25</td>\n",
              "      <td>[progress, near, term, goal, case, exceed, tar...</td>\n",
              "    </tr>\n",
              "    <tr>\n",
              "      <th>2398</th>\n",
              "      <td>On 5 December 2019, the Federal Network Agency...</td>\n",
              "      <td>0</td>\n",
              "      <td>27</td>\n",
              "      <td>[december, federal, network, agency, confirm, ...</td>\n",
              "    </tr>\n",
              "    <tr>\n",
              "      <th>2399</th>\n",
              "      <td>Emission reductions are subtracted from gross ...</td>\n",
              "      <td>0</td>\n",
              "      <td>17</td>\n",
              "      <td>[emission, reduction, subtract, gross, scope, ...</td>\n",
              "    </tr>\n",
              "  </tbody>\n",
              "</table>\n",
              "<p>2400 rows × 4 columns</p>\n",
              "</div>"
            ],
            "text/plain": [
              "                                                   text  label  word_count  \\\n",
              "0     It will enable E.ON to acquire and leverage a ...      0          34   \n",
              "1     And that's honestly most markets in the U.S. S...      0          37   \n",
              "2     A key pillar of our strategy is to continue to...      0          39   \n",
              "3     The goal to reduce relative GHG emissions by 2...      1          15   \n",
              "4     As you know, we drove about $75 million of cos...      0          17   \n",
              "...                                                 ...    ...         ...   \n",
              "2395  The collaboration will enable Nestlé to delive...      1          26   \n",
              "2396  Through the MOBILITY THAT ADAPTS TO MEET NEEDS...      0          35   \n",
              "2397  While we are making progress towards our near ...      0          25   \n",
              "2398  On 5 December 2019, the Federal Network Agency...      0          27   \n",
              "2399  Emission reductions are subtracted from gross ...      0          17   \n",
              "\n",
              "                                                 tokens  \n",
              "0     [enable, eon, acquire, leverage, comprehensive...  \n",
              "1     [honestly, market, us, fact, think, opportunit...  \n",
              "2     [key, pillar, strategy, continue, adapt, busin...  \n",
              "3      [goal, reduce, relative, ghg, emission, achieve]  \n",
              "4     [know, drive, million, cost, synergy, year, fi...  \n",
              "...                                                 ...  \n",
              "2395  [collaboration, enable, nestlé, deliver, susta...  \n",
              "2396  [mobility, adapts, meet, need, renault, tech, ...  \n",
              "2397  [progress, near, term, goal, case, exceed, tar...  \n",
              "2398  [december, federal, network, agency, confirm, ...  \n",
              "2399  [emission, reduction, subtract, gross, scope, ...  \n",
              "\n",
              "[2400 rows x 4 columns]"
            ]
          },
          "execution_count": 9,
          "metadata": {},
          "output_type": "execute_result"
        }
      ],
      "source": [
        "# Create a copy data frame\n",
        "df_tokenized = df_train.copy()\n",
        "\n",
        "# Apply the tokenizer function to the 'text' column\n",
        "df_tokenized['tokens'] = df_tokenized['text'].apply(spacy_tokenizer)\n",
        "\n",
        "# Print the DataFrame with tokenized text\n",
        "df_tokenized"
      ]
    },
    {
      "attachments": {},
      "cell_type": "markdown",
      "metadata": {},
      "source": [
        "After creating the tokenized column, we want to select only environmental claims, meaning we will filter for labels = 1. "
      ]
    },
    {
      "cell_type": "code",
      "execution_count": 10,
      "metadata": {
        "colab": {
          "base_uri": "https://localhost:8080/",
          "height": 424
        },
        "id": "gxHUiFPWUlm8",
        "outputId": "193f9023-1bd4-418e-f119-f48245c468a0"
      },
      "outputs": [
        {
          "data": {
            "text/html": [
              "<div>\n",
              "<style scoped>\n",
              "    .dataframe tbody tr th:only-of-type {\n",
              "        vertical-align: middle;\n",
              "    }\n",
              "\n",
              "    .dataframe tbody tr th {\n",
              "        vertical-align: top;\n",
              "    }\n",
              "\n",
              "    .dataframe thead th {\n",
              "        text-align: right;\n",
              "    }\n",
              "</style>\n",
              "<table border=\"1\" class=\"dataframe\">\n",
              "  <thead>\n",
              "    <tr style=\"text-align: right;\">\n",
              "      <th></th>\n",
              "      <th>text</th>\n",
              "      <th>label</th>\n",
              "      <th>word_count</th>\n",
              "      <th>tokens</th>\n",
              "    </tr>\n",
              "  </thead>\n",
              "  <tbody>\n",
              "    <tr>\n",
              "      <th>0</th>\n",
              "      <td>The goal to reduce relative GHG emissions by 2...</td>\n",
              "      <td>1</td>\n",
              "      <td>15</td>\n",
              "      <td>goal reduce relative ghg emission achieve</td>\n",
              "    </tr>\n",
              "    <tr>\n",
              "      <th>1</th>\n",
              "      <td>1.2 Significant Changes to Assets In February ...</td>\n",
              "      <td>1</td>\n",
              "      <td>38</td>\n",
              "      <td>significant changes asset february agl create ...</td>\n",
              "    </tr>\n",
              "    <tr>\n",
              "      <th>2</th>\n",
              "      <td>This not only provides a clean energy solution...</td>\n",
              "      <td>1</td>\n",
              "      <td>23</td>\n",
              "      <td>provide clean energy solution improve basic sa...</td>\n",
              "    </tr>\n",
              "    <tr>\n",
              "      <th>3</th>\n",
              "      <td>The Group has therefore built its sustainabili...</td>\n",
              "      <td>1</td>\n",
              "      <td>35</td>\n",
              "      <td>group build sustainability approach area actio...</td>\n",
              "    </tr>\n",
              "    <tr>\n",
              "      <th>4</th>\n",
              "      <td>Waste As part of our ambitions to move toward ...</td>\n",
              "      <td>1</td>\n",
              "      <td>23</td>\n",
              "      <td>waste ambition circular economy aim reduce was...</td>\n",
              "    </tr>\n",
              "    <tr>\n",
              "      <th>...</th>\n",
              "      <td>...</td>\n",
              "      <td>...</td>\n",
              "      <td>...</td>\n",
              "      <td>...</td>\n",
              "    </tr>\n",
              "    <tr>\n",
              "      <th>537</th>\n",
              "      <td>I would also just say that things -- we are on...</td>\n",
              "      <td>1</td>\n",
              "      <td>17</td>\n",
              "      <td>thing leader renewable energy</td>\n",
              "    </tr>\n",
              "    <tr>\n",
              "      <th>538</th>\n",
              "      <td>In 2019, we purchased 128,873 tonnes of United...</td>\n",
              "      <td>1</td>\n",
              "      <td>27</td>\n",
              "      <td>purchase tonne united nations certify emission...</td>\n",
              "    </tr>\n",
              "    <tr>\n",
              "      <th>539</th>\n",
              "      <td>We have committed to reach net-zero greenhouse...</td>\n",
              "      <td>1</td>\n",
              "      <td>16</td>\n",
              "      <td>commit reach net zero greenhouse gas emission ...</td>\n",
              "    </tr>\n",
              "    <tr>\n",
              "      <th>540</th>\n",
              "      <td>Furthermore, we will contribute to the prevent...</td>\n",
              "      <td>1</td>\n",
              "      <td>23</td>\n",
              "      <td>furthermore contribute prevention global warmi...</td>\n",
              "    </tr>\n",
              "    <tr>\n",
              "      <th>541</th>\n",
              "      <td>The collaboration will enable Nestlé to delive...</td>\n",
              "      <td>1</td>\n",
              "      <td>26</td>\n",
              "      <td>collaboration enable nestlé deliver sustainabl...</td>\n",
              "    </tr>\n",
              "  </tbody>\n",
              "</table>\n",
              "<p>542 rows × 4 columns</p>\n",
              "</div>"
            ],
            "text/plain": [
              "                                                  text  label  word_count  \\\n",
              "0    The goal to reduce relative GHG emissions by 2...      1          15   \n",
              "1    1.2 Significant Changes to Assets In February ...      1          38   \n",
              "2    This not only provides a clean energy solution...      1          23   \n",
              "3    The Group has therefore built its sustainabili...      1          35   \n",
              "4    Waste As part of our ambitions to move toward ...      1          23   \n",
              "..                                                 ...    ...         ...   \n",
              "537  I would also just say that things -- we are on...      1          17   \n",
              "538  In 2019, we purchased 128,873 tonnes of United...      1          27   \n",
              "539  We have committed to reach net-zero greenhouse...      1          16   \n",
              "540  Furthermore, we will contribute to the prevent...      1          23   \n",
              "541  The collaboration will enable Nestlé to delive...      1          26   \n",
              "\n",
              "                                                tokens  \n",
              "0            goal reduce relative ghg emission achieve  \n",
              "1    significant changes asset february agl create ...  \n",
              "2    provide clean energy solution improve basic sa...  \n",
              "3    group build sustainability approach area actio...  \n",
              "4    waste ambition circular economy aim reduce was...  \n",
              "..                                                 ...  \n",
              "537                      thing leader renewable energy  \n",
              "538  purchase tonne united nations certify emission...  \n",
              "539  commit reach net zero greenhouse gas emission ...  \n",
              "540  furthermore contribute prevention global warmi...  \n",
              "541  collaboration enable nestlé deliver sustainabl...  \n",
              "\n",
              "[542 rows x 4 columns]"
            ]
          },
          "execution_count": 10,
          "metadata": {},
          "output_type": "execute_result"
        }
      ],
      "source": [
        "# Replace commas with spaces and convert the lists to strings\n",
        "df_tokenized['tokens'] = df_tokenized['tokens'].apply(lambda x: ' '.join(x))\n",
        "\n",
        "# Filter observations with label equal to 1\n",
        "df_train_bis = df_tokenized[df_tokenized['label'] == 1].copy()\n",
        "\n",
        "# Reset the index of the new DataFrame\n",
        "df_train_bis.reset_index(drop=True, inplace=True)\n",
        "\n",
        "# Print the new DataFrame\n",
        "df_train_bis"
      ]
    },
    {
      "attachments": {},
      "cell_type": "markdown",
      "metadata": {},
      "source": [
        "Similar as we did for the most common words across the entire sentences, we now select the most common words, however from the tokenized column, which excludes any punctuation,numbers, and, basic words."
      ]
    },
    {
      "cell_type": "code",
      "execution_count": 11,
      "metadata": {
        "colab": {
          "base_uri": "https://localhost:8080/",
          "height": 1000
        },
        "id": "QeeIiSe1Ulkz",
        "outputId": "60452de1-3f58-4af4-b557-9b065b97e2ff"
      },
      "outputs": [
        {
          "data": {
            "text/html": [
              "<div>\n",
              "<style scoped>\n",
              "    .dataframe tbody tr th:only-of-type {\n",
              "        vertical-align: middle;\n",
              "    }\n",
              "\n",
              "    .dataframe tbody tr th {\n",
              "        vertical-align: top;\n",
              "    }\n",
              "\n",
              "    .dataframe thead th {\n",
              "        text-align: right;\n",
              "    }\n",
              "</style>\n",
              "<table border=\"1\" class=\"dataframe\">\n",
              "  <thead>\n",
              "    <tr style=\"text-align: right;\">\n",
              "      <th></th>\n",
              "      <th>Frequency</th>\n",
              "    </tr>\n",
              "    <tr>\n",
              "      <th>Word</th>\n",
              "      <th></th>\n",
              "    </tr>\n",
              "  </thead>\n",
              "  <tbody>\n",
              "    <tr>\n",
              "      <th>energy</th>\n",
              "      <td>159</td>\n",
              "    </tr>\n",
              "    <tr>\n",
              "      <th>environmental</th>\n",
              "      <td>130</td>\n",
              "    </tr>\n",
              "    <tr>\n",
              "      <th>reduce</th>\n",
              "      <td>111</td>\n",
              "    </tr>\n",
              "    <tr>\n",
              "      <th>emission</th>\n",
              "      <td>102</td>\n",
              "    </tr>\n",
              "    <tr>\n",
              "      <th>carbon</th>\n",
              "      <td>99</td>\n",
              "    </tr>\n",
              "    <tr>\n",
              "      <th>climate</th>\n",
              "      <td>70</td>\n",
              "    </tr>\n",
              "    <tr>\n",
              "      <th>use</th>\n",
              "      <td>69</td>\n",
              "    </tr>\n",
              "    <tr>\n",
              "      <th>renewable</th>\n",
              "      <td>60</td>\n",
              "    </tr>\n",
              "    <tr>\n",
              "      <th>impact</th>\n",
              "      <td>60</td>\n",
              "    </tr>\n",
              "    <tr>\n",
              "      <th>sustainable</th>\n",
              "      <td>55</td>\n",
              "    </tr>\n",
              "    <tr>\n",
              "      <th>group</th>\n",
              "      <td>51</td>\n",
              "    </tr>\n",
              "    <tr>\n",
              "      <th>power</th>\n",
              "      <td>50</td>\n",
              "    </tr>\n",
              "    <tr>\n",
              "      <th>environment</th>\n",
              "      <td>47</td>\n",
              "    </tr>\n",
              "    <tr>\n",
              "      <th>work</th>\n",
              "      <td>44</td>\n",
              "    </tr>\n",
              "    <tr>\n",
              "      <th>product</th>\n",
              "      <td>44</td>\n",
              "    </tr>\n",
              "    <tr>\n",
              "      <th>company</th>\n",
              "      <td>42</td>\n",
              "    </tr>\n",
              "    <tr>\n",
              "      <th>change</th>\n",
              "      <td>41</td>\n",
              "    </tr>\n",
              "    <tr>\n",
              "      <th>business</th>\n",
              "      <td>41</td>\n",
              "    </tr>\n",
              "    <tr>\n",
              "      <th>low</th>\n",
              "      <td>41</td>\n",
              "    </tr>\n",
              "    <tr>\n",
              "      <th>reduction</th>\n",
              "      <td>40</td>\n",
              "    </tr>\n",
              "  </tbody>\n",
              "</table>\n",
              "</div>"
            ],
            "text/plain": [
              "               Frequency\n",
              "Word                    \n",
              "energy               159\n",
              "environmental        130\n",
              "reduce               111\n",
              "emission             102\n",
              "carbon                99\n",
              "climate               70\n",
              "use                   69\n",
              "renewable             60\n",
              "impact                60\n",
              "sustainable           55\n",
              "group                 51\n",
              "power                 50\n",
              "environment           47\n",
              "work                  44\n",
              "product               44\n",
              "company               42\n",
              "change                41\n",
              "business              41\n",
              "low                   41\n",
              "reduction             40"
            ]
          },
          "metadata": {},
          "output_type": "display_data"
        },
        {
          "data": {
            "image/png": "[encoded data removed]",
            "text/plain": [
              "<Figure size 1200x800 with 1 Axes>"
            ]
          },
          "metadata": {},
          "output_type": "display_data"
        }
      ],
      "source": [
        "# Combine all claims' text into a single string\n",
        "all_text = ' '.join(df_train_bis['tokens'].tolist())\n",
        "\n",
        "# Tokenize the text by splitting on whitespace\n",
        "words = all_text.split()\n",
        "\n",
        "# Count the occurrences of each word\n",
        "word_counts = Counter(words)\n",
        "\n",
        "# Get n most frequent words\n",
        "n = 20  # Specify the number of most frequent words I want to retrieve\n",
        "most_frequent_words = word_counts.most_common(n)\n",
        "\n",
        "# create a list of most frequent words\n",
        "most_common = [{\"Word\": word, \"Frequency\": frequency} for word, frequency in most_frequent_words]\n",
        "word_common = pd.DataFrame(most_common)\n",
        "word_common.set_index(\"Word\",inplace=True)\n",
        "display(word_common)\n",
        "\n",
        "#visualize the 10 most common words in a bar chart \n",
        "sns.set(style=\"whitegrid\")\n",
        "plt.figure(figsize=(12, 8))\n",
        "\n",
        "sns.barplot(x=word_common.index[:20], y=word_common[\"Frequency\"][:20], color=\"green\")\n",
        "plt.xlabel(\"Word\")\n",
        "plt.ylabel(\"Count\")\n",
        "plt.title(\"Top 20 most common words across tokenized environmental claims\", fontsize = 16)\n",
        "plt.xticks(rotation=45)\n",
        "plt.show()"
      ]
    },
    {
      "attachments": {},
      "cell_type": "markdown",
      "metadata": {
        "id": "O2Fr-6SLhGWf"
      },
      "source": [
        "From the bar charts provided, we can now discern the presence of specific \"buzzwords\" commonly found in environmental claims. These words tend to align with environmentally friendly concepts, such as energy, reduction, and climate. Consequently, it is reasonable to expect that phrases labeled as 1 would consist of these words. As we proceed with the analysis, both in the predictive phase of the testing set and annual bank reports, it would not be unexpected to find that phrases predicted as \"environmental claims\" contain these particular words."
      ]
    },
    {
      "attachments": {},
      "cell_type": "markdown",
      "metadata": {
        "id": "lYHErM8KuGGh"
      },
      "source": [
        "#### 2. Explore Company affiliation within sentences"
      ]
    },
    {
      "attachments": {},
      "cell_type": "markdown",
      "metadata": {},
      "source": [
        "We continue our data analyses with a closer look at entities which are given in the sentences. These include organizations, individuals, locations, dates, and numerical values. From this baseline, we will shed light on company references given by the sentence. This could either be a statement by a third party targeting a specific company, or the company was publishing this sentence directly."
      ]
    },
    {
      "cell_type": "code",
      "execution_count": 12,
      "metadata": {
        "id": "I4dIC5bTuGGi",
        "outputId": "d4e1e930-b460-42a3-d924-1b7f948a71a1"
      },
      "outputs": [
        {
          "name": "stdout",
          "output_type": "stream",
          "text": [
            "Claim 1:\n"
          ]
        },
        {
          "name": "stderr",
          "output_type": "stream",
          "text": [
            "c:\\Users\\Charlotte Ahrens\\anaconda3\\lib\\site-packages\\spacy\\displacy\\__init__.py:215: UserWarning: [W006] No entities to visualize found in Doc object. If this is surprising to you, make sure the Doc was processed using a model that supports named entity recognition, and check the `doc.ents` property manually if necessary.\n",
            "  warnings.warn(Warnings.W006)\n"
          ]
        },
        {
          "data": {
            "text/html": [
              "<span class=\"tex2jax_ignore\"><div class=\"entities\" style=\"line-height: 2.5; direction: ltr\">It will enable E.ON to acquire and leverage a comprehensive understanding of the transfor- mation of the energy system and the interplay between the individual submarkets in regional and local energy supply sys- tems.</div></span>"
            ],
            "text/plain": [
              "<IPython.core.display.HTML object>"
            ]
          },
          "metadata": {},
          "output_type": "display_data"
        },
        {
          "name": "stdout",
          "output_type": "stream",
          "text": [
            "Claim 2:\n"
          ]
        },
        {
          "data": {
            "text/html": [
              "<span class=\"tex2jax_ignore\"><div class=\"entities\" style=\"line-height: 2.5; direction: ltr\">And that's honestly most markets in the \n",
              "<mark class=\"entity\" style=\"background: #feca74; padding: 0.45em 0.6em; margin: 0 0.25em; line-height: 1; border-radius: 0.35em;\">\n",
              "    U.S.\n",
              "    <span style=\"font-size: 0.8em; font-weight: bold; line-height: 1; border-radius: 0.35em; vertical-align: middle; margin-left: 0.5rem\">GPE</span>\n",
              "</mark>\n",
              " So that is a fact that we think there is opportunity for us to bring some tuck-in acquisitions that help us get to our goal of \n",
              "<mark class=\"entity\" style=\"background: #e4e7d2; padding: 0.45em 0.6em; margin: 0 0.25em; line-height: 1; border-radius: 0.35em;\">\n",
              "    70%\n",
              "    <span style=\"font-size: 0.8em; font-weight: bold; line-height: 1; border-radius: 0.35em; vertical-align: middle; margin-left: 0.5rem\">PERCENT</span>\n",
              "</mark>\n",
              " and beyond.</div></span>"
            ],
            "text/plain": [
              "<IPython.core.display.HTML object>"
            ]
          },
          "metadata": {},
          "output_type": "display_data"
        },
        {
          "name": "stdout",
          "output_type": "stream",
          "text": [
            "Claim 3:\n"
          ]
        },
        {
          "data": {
            "text/html": [
              "<span class=\"tex2jax_ignore\"><div class=\"entities\" style=\"line-height: 2.5; direction: ltr\">A key pillar of our strategy is to continue to adapt our business mix to position us for longer-term low interest rates whilst continuing to serve our customers’ needs through the provision of attractive unit-linked and capital-light products. •</div></span>"
            ],
            "text/plain": [
              "<IPython.core.display.HTML object>"
            ]
          },
          "metadata": {},
          "output_type": "display_data"
        },
        {
          "name": "stdout",
          "output_type": "stream",
          "text": [
            "Claim 4:\n"
          ]
        },
        {
          "data": {
            "text/html": [
              "<span class=\"tex2jax_ignore\"><div class=\"entities\" style=\"line-height: 2.5; direction: ltr\">The goal to reduce relative \n",
              "<mark class=\"entity\" style=\"background: #7aecec; padding: 0.45em 0.6em; margin: 0 0.25em; line-height: 1; border-radius: 0.35em;\">\n",
              "    GHG\n",
              "    <span style=\"font-size: 0.8em; font-weight: bold; line-height: 1; border-radius: 0.35em; vertical-align: middle; margin-left: 0.5rem\">ORG</span>\n",
              "</mark>\n",
              " emissions by \n",
              "<mark class=\"entity\" style=\"background: #e4e7d2; padding: 0.45em 0.6em; margin: 0 0.25em; line-height: 1; border-radius: 0.35em;\">\n",
              "    20%\n",
              "    <span style=\"font-size: 0.8em; font-weight: bold; line-height: 1; border-radius: 0.35em; vertical-align: middle; margin-left: 0.5rem\">PERCENT</span>\n",
              "</mark>\n",
              " by \n",
              "<mark class=\"entity\" style=\"background: #bfe1d9; padding: 0.45em 0.6em; margin: 0 0.25em; line-height: 1; border-radius: 0.35em;\">\n",
              "    2020\n",
              "    <span style=\"font-size: 0.8em; font-weight: bold; line-height: 1; border-radius: 0.35em; vertical-align: middle; margin-left: 0.5rem\">DATE</span>\n",
              "</mark>\n",
              " was achieved in \n",
              "<mark class=\"entity\" style=\"background: #bfe1d9; padding: 0.45em 0.6em; margin: 0 0.25em; line-height: 1; border-radius: 0.35em;\">\n",
              "    2013\n",
              "    <span style=\"font-size: 0.8em; font-weight: bold; line-height: 1; border-radius: 0.35em; vertical-align: middle; margin-left: 0.5rem\">DATE</span>\n",
              "</mark>\n",
              ".</div></span>"
            ],
            "text/plain": [
              "<IPython.core.display.HTML object>"
            ]
          },
          "metadata": {},
          "output_type": "display_data"
        },
        {
          "name": "stdout",
          "output_type": "stream",
          "text": [
            "Claim 5:\n"
          ]
        },
        {
          "data": {
            "text/html": [
              "<span class=\"tex2jax_ignore\"><div class=\"entities\" style=\"line-height: 2.5; direction: ltr\">As you know, we drove \n",
              "<mark class=\"entity\" style=\"background: #e4e7d2; padding: 0.45em 0.6em; margin: 0 0.25em; line-height: 1; border-radius: 0.35em;\">\n",
              "    about $75 million\n",
              "    <span style=\"font-size: 0.8em; font-weight: bold; line-height: 1; border-radius: 0.35em; vertical-align: middle; margin-left: 0.5rem\">MONEY</span>\n",
              "</mark>\n",
              " of cost synergies \n",
              "<mark class=\"entity\" style=\"background: #bfe1d9; padding: 0.45em 0.6em; margin: 0 0.25em; line-height: 1; border-radius: 0.35em;\">\n",
              "    last year\n",
              "    <span style=\"font-size: 0.8em; font-weight: bold; line-height: 1; border-radius: 0.35em; vertical-align: middle; margin-left: 0.5rem\">DATE</span>\n",
              "</mark>\n",
              ", in \n",
              "<mark class=\"entity\" style=\"background: #bfe1d9; padding: 0.45em 0.6em; margin: 0 0.25em; line-height: 1; border-radius: 0.35em;\">\n",
              "    fiscal year '18\n",
              "    <span style=\"font-size: 0.8em; font-weight: bold; line-height: 1; border-radius: 0.35em; vertical-align: middle; margin-left: 0.5rem\">DATE</span>\n",
              "</mark>\n",
              ".</div></span>"
            ],
            "text/plain": [
              "<IPython.core.display.HTML object>"
            ]
          },
          "metadata": {},
          "output_type": "display_data"
        },
        {
          "name": "stdout",
          "output_type": "stream",
          "text": [
            "Claim 6:\n"
          ]
        },
        {
          "data": {
            "text/html": [
              "<span class=\"tex2jax_ignore\"><div class=\"entities\" style=\"line-height: 2.5; direction: ltr\">\n",
              "<mark class=\"entity\" style=\"background: #e4e7d2; padding: 0.45em 0.6em; margin: 0 0.25em; line-height: 1; border-radius: 0.35em;\">\n",
              "    1.2\n",
              "    <span style=\"font-size: 0.8em; font-weight: bold; line-height: 1; border-radius: 0.35em; vertical-align: middle; margin-left: 0.5rem\">CARDINAL</span>\n",
              "</mark>\n",
              " Significant Changes to Assets In \n",
              "<mark class=\"entity\" style=\"background: #bfe1d9; padding: 0.45em 0.6em; margin: 0 0.25em; line-height: 1; border-radius: 0.35em;\">\n",
              "    February 2016\n",
              "    <span style=\"font-size: 0.8em; font-weight: bold; line-height: 1; border-radius: 0.35em; vertical-align: middle; margin-left: 0.5rem\">DATE</span>\n",
              "</mark>\n",
              ", \n",
              "<mark class=\"entity\" style=\"background: #7aecec; padding: 0.45em 0.6em; margin: 0 0.25em; line-height: 1; border-radius: 0.35em;\">\n",
              "    AGL\n",
              "    <span style=\"font-size: 0.8em; font-weight: bold; line-height: 1; border-radius: 0.35em; vertical-align: middle; margin-left: 0.5rem\">ORG</span>\n",
              "</mark>\n",
              " created \n",
              "<mark class=\"entity\" style=\"background: #7aecec; padding: 0.45em 0.6em; margin: 0 0.25em; line-height: 1; border-radius: 0.35em;\">\n",
              "    the Powering Australian Renewables Fund\n",
              "    <span style=\"font-size: 0.8em; font-weight: bold; line-height: 1; border-radius: 0.35em; vertical-align: middle; margin-left: 0.5rem\">ORG</span>\n",
              "</mark>\n",
              " (PARF), of which \n",
              "<mark class=\"entity\" style=\"background: #7aecec; padding: 0.45em 0.6em; margin: 0 0.25em; line-height: 1; border-radius: 0.35em;\">\n",
              "    AGL\n",
              "    <span style=\"font-size: 0.8em; font-weight: bold; line-height: 1; border-radius: 0.35em; vertical-align: middle; margin-left: 0.5rem\">ORG</span>\n",
              "</mark>\n",
              " would own \n",
              "<mark class=\"entity\" style=\"background: #e4e7d2; padding: 0.45em 0.6em; margin: 0 0.25em; line-height: 1; border-radius: 0.35em;\">\n",
              "    20%\n",
              "    <span style=\"font-size: 0.8em; font-weight: bold; line-height: 1; border-radius: 0.35em; vertical-align: middle; margin-left: 0.5rem\">PERCENT</span>\n",
              "</mark>\n",
              " of the equity, to develop and own \n",
              "<mark class=\"entity\" style=\"background: #e4e7d2; padding: 0.45em 0.6em; margin: 0 0.25em; line-height: 1; border-radius: 0.35em;\">\n",
              "    approximately 1,000\n",
              "    <span style=\"font-size: 0.8em; font-weight: bold; line-height: 1; border-radius: 0.35em; vertical-align: middle; margin-left: 0.5rem\">CARDINAL</span>\n",
              "</mark>\n",
              " \n",
              "<mark class=\"entity\" style=\"background: #7aecec; padding: 0.45em 0.6em; margin: 0 0.25em; line-height: 1; border-radius: 0.35em;\">\n",
              "    MW\n",
              "    <span style=\"font-size: 0.8em; font-weight: bold; line-height: 1; border-radius: 0.35em; vertical-align: middle; margin-left: 0.5rem\">ORG</span>\n",
              "</mark>\n",
              " of large-scale renewable energy generation assets.</div></span>"
            ],
            "text/plain": [
              "<IPython.core.display.HTML object>"
            ]
          },
          "metadata": {},
          "output_type": "display_data"
        },
        {
          "name": "stdout",
          "output_type": "stream",
          "text": [
            "Claim 7:\n"
          ]
        },
        {
          "data": {
            "text/html": [
              "<span class=\"tex2jax_ignore\"><div class=\"entities\" style=\"line-height: 2.5; direction: ltr\">\n",
              "<mark class=\"entity\" style=\"background: #e4e7d2; padding: 0.45em 0.6em; margin: 0 0.25em; line-height: 1; border-radius: 0.35em;\">\n",
              "    35%\n",
              "    <span style=\"font-size: 0.8em; font-weight: bold; line-height: 1; border-radius: 0.35em; vertical-align: middle; margin-left: 0.5rem\">PERCENT</span>\n",
              "</mark>\n",
              " of the remuneration that is determined by the qualitative internal assessment of \n",
              "<mark class=\"entity\" style=\"background: #7aecec; padding: 0.45em 0.6em; margin: 0 0.25em; line-height: 1; border-radius: 0.35em;\">\n",
              "    the Executive Board\n",
              "    <span style=\"font-size: 0.8em; font-weight: bold; line-height: 1; border-radius: 0.35em; vertical-align: middle; margin-left: 0.5rem\">ORG</span>\n",
              "</mark>\n",
              " of Directors by \n",
              "<mark class=\"entity\" style=\"background: #7aecec; padding: 0.45em 0.6em; margin: 0 0.25em; line-height: 1; border-radius: 0.35em;\">\n",
              "    the Remuneration Committee of the General and Supervisory Board\n",
              "    <span style=\"font-size: 0.8em; font-weight: bold; line-height: 1; border-radius: 0.35em; vertical-align: middle; margin-left: 0.5rem\">ORG</span>\n",
              "</mark>\n",
              " is reserved.</div></span>"
            ],
            "text/plain": [
              "<IPython.core.display.HTML object>"
            ]
          },
          "metadata": {},
          "output_type": "display_data"
        },
        {
          "name": "stdout",
          "output_type": "stream",
          "text": [
            "Claim 8:\n"
          ]
        },
        {
          "data": {
            "text/html": [
              "<span class=\"tex2jax_ignore\"><div class=\"entities\" style=\"line-height: 2.5; direction: ltr\">This not only provides a clean energy solution to improve basic sanitation, but also makes effective use of plastic and other waste materials.</div></span>"
            ],
            "text/plain": [
              "<IPython.core.display.HTML object>"
            ]
          },
          "metadata": {},
          "output_type": "display_data"
        },
        {
          "name": "stdout",
          "output_type": "stream",
          "text": [
            "Claim 9:\n"
          ]
        },
        {
          "data": {
            "text/html": [
              "<span class=\"tex2jax_ignore\"><div class=\"entities\" style=\"line-height: 2.5; direction: ltr\">This requires us to be fully informed in our long-term decisions that are anchored on enhancing the capabilities of our people and being mindful of our impact on the planet.</div></span>"
            ],
            "text/plain": [
              "<IPython.core.display.HTML object>"
            ]
          },
          "metadata": {},
          "output_type": "display_data"
        },
        {
          "name": "stdout",
          "output_type": "stream",
          "text": [
            "Claim 10:\n"
          ]
        },
        {
          "data": {
            "text/html": [
              "<span class=\"tex2jax_ignore\"><div class=\"entities\" style=\"line-height: 2.5; direction: ltr\">The \n",
              "<mark class=\"entity\" style=\"background: #7aecec; padding: 0.45em 0.6em; margin: 0 0.25em; line-height: 1; border-radius: 0.35em;\">\n",
              "    Group\n",
              "    <span style=\"font-size: 0.8em; font-weight: bold; line-height: 1; border-radius: 0.35em; vertical-align: middle; margin-left: 0.5rem\">ORG</span>\n",
              "</mark>\n",
              " has therefore built its sustainability approach on \n",
              "<mark class=\"entity\" style=\"background: #e4e7d2; padding: 0.45em 0.6em; margin: 0 0.25em; line-height: 1; border-radius: 0.35em;\">\n",
              "    four\n",
              "    <span style=\"font-size: 0.8em; font-weight: bold; line-height: 1; border-radius: 0.35em; vertical-align: middle; margin-left: 0.5rem\">CARDINAL</span>\n",
              "</mark>\n",
              " areas of action: – the integration of climate into its strategy, because energy production and consumption are intrinsically linked to the challenge of climate change.</div></span>"
            ],
            "text/plain": [
              "<IPython.core.display.HTML object>"
            ]
          },
          "metadata": {},
          "output_type": "display_data"
        }
      ],
      "source": [
        "#taking a closer look at the claims different entities\n",
        "first_10_lines = df_train[\"text\"].head(10)\n",
        "text_10 = first_10_lines.to_list()\n",
        "docs = [sp(text) for text in text_10]\n",
        "\n",
        "for i, doc in enumerate(docs):\n",
        "    text_10_num = (f\"Claim {i+1}:\")\n",
        "    print(text_10_num) \n",
        "    displacy.render(doc,style=\"ent\",jupyter=True)"
      ]
    },
    {
      "cell_type": "code",
      "execution_count": 13,
      "metadata": {
        "id": "3-hUrufduGGi",
        "outputId": "a1554f2a-7221-477d-fed1-db47f99f5c62"
      },
      "outputs": [
        {
          "data": {
            "text/html": [
              "<div>\n",
              "<style scoped>\n",
              "    .dataframe tbody tr th:only-of-type {\n",
              "        vertical-align: middle;\n",
              "    }\n",
              "\n",
              "    .dataframe tbody tr th {\n",
              "        vertical-align: top;\n",
              "    }\n",
              "\n",
              "    .dataframe thead th {\n",
              "        text-align: right;\n",
              "    }\n",
              "</style>\n",
              "<table border=\"1\" class=\"dataframe\">\n",
              "  <thead>\n",
              "    <tr style=\"text-align: right;\">\n",
              "      <th></th>\n",
              "      <th>text</th>\n",
              "      <th>label</th>\n",
              "      <th>word_count</th>\n",
              "      <th>companies</th>\n",
              "      <th>entities</th>\n",
              "    </tr>\n",
              "  </thead>\n",
              "  <tbody>\n",
              "    <tr>\n",
              "      <th>0</th>\n",
              "      <td>It will enable E.ON to acquire and leverage a ...</td>\n",
              "      <td>0</td>\n",
              "      <td>34</td>\n",
              "      <td>[EON]</td>\n",
              "      <td>[EON]</td>\n",
              "    </tr>\n",
              "    <tr>\n",
              "      <th>1</th>\n",
              "      <td>And that's honestly most markets in the U.S. S...</td>\n",
              "      <td>0</td>\n",
              "      <td>37</td>\n",
              "      <td>[]</td>\n",
              "      <td>[US, 70]</td>\n",
              "    </tr>\n",
              "    <tr>\n",
              "      <th>2</th>\n",
              "      <td>A key pillar of our strategy is to continue to...</td>\n",
              "      <td>0</td>\n",
              "      <td>39</td>\n",
              "      <td>[]</td>\n",
              "      <td>[]</td>\n",
              "    </tr>\n",
              "    <tr>\n",
              "      <th>3</th>\n",
              "      <td>The goal to reduce relative GHG emissions by 2...</td>\n",
              "      <td>1</td>\n",
              "      <td>15</td>\n",
              "      <td>[GHG]</td>\n",
              "      <td>[2013, 20, GHG, 2020]</td>\n",
              "    </tr>\n",
              "    <tr>\n",
              "      <th>4</th>\n",
              "      <td>As you know, we drove about $75 million of cos...</td>\n",
              "      <td>0</td>\n",
              "      <td>17</td>\n",
              "      <td>[]</td>\n",
              "      <td>[fiscal year 18, about 75 million, last year]</td>\n",
              "    </tr>\n",
              "    <tr>\n",
              "      <th>...</th>\n",
              "      <td>...</td>\n",
              "      <td>...</td>\n",
              "      <td>...</td>\n",
              "      <td>...</td>\n",
              "      <td>...</td>\n",
              "    </tr>\n",
              "    <tr>\n",
              "      <th>2395</th>\n",
              "      <td>The collaboration will enable Nestlé to delive...</td>\n",
              "      <td>1</td>\n",
              "      <td>26</td>\n",
              "      <td>[Nestle]</td>\n",
              "      <td>[Nestle]</td>\n",
              "    </tr>\n",
              "    <tr>\n",
              "      <th>2396</th>\n",
              "      <td>Through the MOBILITY THAT ADAPTS TO MEET NEEDS...</td>\n",
              "      <td>0</td>\n",
              "      <td>35</td>\n",
              "      <td>[Renault Tech, Renault]</td>\n",
              "      <td>[Renault Tech, European, 2009, Renault]</td>\n",
              "    </tr>\n",
              "    <tr>\n",
              "      <th>2397</th>\n",
              "      <td>While we are making progress towards our near ...</td>\n",
              "      <td>0</td>\n",
              "      <td>25</td>\n",
              "      <td>[]</td>\n",
              "      <td>[]</td>\n",
              "    </tr>\n",
              "    <tr>\n",
              "      <th>2398</th>\n",
              "      <td>On 5 December 2019, the Federal Network Agency...</td>\n",
              "      <td>0</td>\n",
              "      <td>27</td>\n",
              "      <td>[the Federal Network Agency]</td>\n",
              "      <td>[the Federal Network Agency, 139 2020 to 2030,...</td>\n",
              "    </tr>\n",
              "    <tr>\n",
              "      <th>2399</th>\n",
              "      <td>Emission reductions are subtracted from gross ...</td>\n",
              "      <td>0</td>\n",
              "      <td>17</td>\n",
              "      <td>[]</td>\n",
              "      <td>[3, Scope 1 to]</td>\n",
              "    </tr>\n",
              "  </tbody>\n",
              "</table>\n",
              "<p>2400 rows × 5 columns</p>\n",
              "</div>"
            ],
            "text/plain": [
              "                                                   text  label  word_count  \\\n",
              "0     It will enable E.ON to acquire and leverage a ...      0          34   \n",
              "1     And that's honestly most markets in the U.S. S...      0          37   \n",
              "2     A key pillar of our strategy is to continue to...      0          39   \n",
              "3     The goal to reduce relative GHG emissions by 2...      1          15   \n",
              "4     As you know, we drove about $75 million of cos...      0          17   \n",
              "...                                                 ...    ...         ...   \n",
              "2395  The collaboration will enable Nestlé to delive...      1          26   \n",
              "2396  Through the MOBILITY THAT ADAPTS TO MEET NEEDS...      0          35   \n",
              "2397  While we are making progress towards our near ...      0          25   \n",
              "2398  On 5 December 2019, the Federal Network Agency...      0          27   \n",
              "2399  Emission reductions are subtracted from gross ...      0          17   \n",
              "\n",
              "                         companies  \\\n",
              "0                            [EON]   \n",
              "1                               []   \n",
              "2                               []   \n",
              "3                            [GHG]   \n",
              "4                               []   \n",
              "...                            ...   \n",
              "2395                      [Nestle]   \n",
              "2396       [Renault Tech, Renault]   \n",
              "2397                            []   \n",
              "2398  [the Federal Network Agency]   \n",
              "2399                            []   \n",
              "\n",
              "                                               entities  \n",
              "0                                                 [EON]  \n",
              "1                                              [US, 70]  \n",
              "2                                                    []  \n",
              "3                                 [2013, 20, GHG, 2020]  \n",
              "4         [fiscal year 18, about 75 million, last year]  \n",
              "...                                                 ...  \n",
              "2395                                           [Nestle]  \n",
              "2396            [Renault Tech, European, 2009, Renault]  \n",
              "2397                                                 []  \n",
              "2398  [the Federal Network Agency, 139 2020 to 2030,...  \n",
              "2399                                    [3, Scope 1 to]  \n",
              "\n",
              "[2400 rows x 5 columns]"
            ]
          },
          "metadata": {},
          "output_type": "display_data"
        }
      ],
      "source": [
        "entities = []\n",
        "companies = []\n",
        "\n",
        "for text in df_train[\"text\"]:\n",
        "    # Remove punctuation\n",
        "    text = text.translate(str.maketrans(\"\", \"\", string.punctuation))\n",
        "    # Change accented characters like é -> e\n",
        "    text = unidecode.unidecode(text)\n",
        "    doc = sp(text)\n",
        "    orgs = [ent.text for ent in doc.ents if ent.label_ == \"ORG\"]\n",
        "    ent = [ent.text for ent in doc.ents if ent.label_]\n",
        "    # Remove duplicates and empty strings\n",
        "    orgs = list(set([org.strip() for org in orgs if org.strip()]))\n",
        "    ent = list(set([e.strip() for e in ent if e.strip()]))\n",
        "    companies.append(orgs)\n",
        "    entities.append(ent)\n",
        "\n",
        "# Add companies and entities as new columns to the DataFrame\n",
        "df_train[\"companies\"] = companies\n",
        "df_train[\"entities\"] = entities\n",
        "\n",
        "display(df_train)"
      ]
    },
    {
      "cell_type": "code",
      "execution_count": 23,
      "metadata": {
        "id": "WxbQ1Zq6uGGi",
        "outputId": "92221104-59b3-45be-fe58-f39a1641fa2e"
      },
      "outputs": [
        {
          "name": "stdout",
          "output_type": "stream",
          "text": [
            "Company: ['MW'], Count: 14\n",
            "Company: ['LNG'], Count: 11\n",
            "Company: ['Bank'], Count: 6\n",
            "Company: ['EDF'], Count: 5\n",
            "Company: ['UN'], Count: 4\n",
            "Company: ['ESG'], Count: 4\n",
            "Company: ['Airbus'], Count: 4\n",
            "Company: ['RD'], Count: 3\n",
            "Company: ['Climate'], Count: 3\n",
            "Company: ['ROIC'], Count: 3\n",
            "Company: ['Tokio Marine Group'], Count: 3\n",
            "Company: ['BBVA'], Count: 3\n",
            "Company: ['AXA'], Count: 3\n",
            "Company: ['TCFD'], Count: 3\n",
            "Company: ['NGL'], Count: 2\n",
            "Company: ['Nordea'], Count: 2\n",
            "Company: ['FENC'], Count: 2\n",
            "Company: ['Energy'], Count: 2\n",
            "Company: ['Companys'], Count: 2\n",
            "Company: ['the Paris Agreement'], Count: 2\n",
            "Company: ['NTPC'], Count: 2\n",
            "Company: ['VOC'], Count: 2\n",
            "Company: ['Hydro'], Count: 2\n",
            "Company: ['KLP'], Count: 2\n",
            "Company: ['Groups'], Count: 2\n",
            "Company: ['VERBUND'], Count: 2\n",
            "Company: ['NYSPSC'], Count: 2\n",
            "Company: ['CH4'], Count: 2\n",
            "Company: ['FPSO'], Count: 2\n",
            "Company: ['Alliance'], Count: 2\n",
            "Company: ['EV'], Count: 2\n",
            "Company: ['MTN'], Count: 2\n",
            "Company: ['the Task Force'], Count: 2\n",
            "Company: ['EU'], Count: 2\n",
            "Company: ['Eagle Ford'], Count: 2\n",
            "Company: ['EPA'], Count: 2\n",
            "Company: ['BlueScope'], Count: 2\n",
            "Company: ['CECONY'], Count: 2\n",
            "Company: ['Board'], Count: 2\n",
            "Company: ['EON'], Count: 2\n",
            "Company: ['Diesel'], Count: 2\n",
            "Company: ['Shell'], Count: 2\n",
            "Company: ['BP'], Count: 2\n",
            " The total count of companies that we have the company name for: 127\n"
          ]
        },
        {
          "data": {
            "image/png": "[encoded data removed]",
            "text/plain": [
              "<Figure size 3000x600 with 1 Axes>"
            ]
          },
          "metadata": {},
          "output_type": "display_data"
        }
      ],
      "source": [
        "#looking for multiples in terms of the company name, including all type of claims\n",
        "company_counts = df_train[\"companies\"].value_counts()\n",
        "multiple_times = company_counts[(company_counts > 1) & (company_counts < 16)] #restrict to < 16 to exclude nan's and other entities that were titled as companies, but are other acronyms like GHG\n",
        "for company, count in multiple_times.items():\n",
        "    print(f\"Company: {company}, Count: {count}\")\n",
        "    \n",
        "#calculate the total count of company names given\n",
        "total_count = multiple_times.values.sum()\n",
        "print(f\" The total count of companies that we have the company name for:\",total_count)\n",
        "\n",
        "#displaying the count of companies visually \n",
        "sns.set(style=\"whitegrid\")\n",
        "plt.figure(figsize=(30,6))\n",
        "\n",
        "sns.barplot(x=multiple_times.index.map(str)[:20], y=multiple_times.values[:20], color=\"blue\")\n",
        "plt.xlabel(\"Company\")\n",
        "plt.ylabel(\"Count\")\n",
        "plt.title(\"Count of Companies, mentioned in the claims\",fontsize =16)\n",
        "plt.xticks(rotation=45)\n",
        "plt.show()"
      ]
    },
    {
      "attachments": {},
      "cell_type": "markdown",
      "metadata": {},
      "source": [
        "The plot graph indicates, that not all companies where correctly found by the entity function, as it includes for instance Bank, ESG, and Climate. However, it gives a rough understanding that several sentences within our dataset are referring to the same companies.Some exceptions where no clear conclusion can be drawn are the two highest count acronyms. MW, an acronym referring to either the MW company or MegaWatts, as well as the Liquefied Natural Gas Industry (LNG) or the LNG american based energy company, have been included in several sentences, but since we are missing the context, this reference must be considered with care. \n",
        "Further we check if an organization, when they have several sentences in the data set, has claims labelled as environmental claim while another claim of this company has been labelled as an environmental claim. First we take \"Airbus\" as an example."
      ]
    },
    {
      "cell_type": "code",
      "execution_count": 15,
      "metadata": {
        "id": "u03UiexcuGGj",
        "outputId": "5b09b882-68e0-4500-9c46-75b26d9104a6"
      },
      "outputs": [
        {
          "data": {
            "text/html": [
              "<div>\n",
              "<style scoped>\n",
              "    .dataframe tbody tr th:only-of-type {\n",
              "        vertical-align: middle;\n",
              "    }\n",
              "\n",
              "    .dataframe tbody tr th {\n",
              "        vertical-align: top;\n",
              "    }\n",
              "\n",
              "    .dataframe thead th {\n",
              "        text-align: right;\n",
              "    }\n",
              "</style>\n",
              "<table border=\"1\" class=\"dataframe\">\n",
              "  <thead>\n",
              "    <tr style=\"text-align: right;\">\n",
              "      <th></th>\n",
              "      <th>text</th>\n",
              "      <th>label</th>\n",
              "      <th>word_count</th>\n",
              "      <th>companies</th>\n",
              "      <th>entities</th>\n",
              "    </tr>\n",
              "  </thead>\n",
              "  <tbody>\n",
              "    <tr>\n",
              "      <th>162</th>\n",
              "      <td>As part of this program we are expecting to in...</td>\n",
              "      <td>0</td>\n",
              "      <td>18</td>\n",
              "      <td>[Airbus]</td>\n",
              "      <td>[A320, Airbus]</td>\n",
              "    </tr>\n",
              "    <tr>\n",
              "      <th>904</th>\n",
              "      <td>In conjunction with the new order, we also res...</td>\n",
              "      <td>0</td>\n",
              "      <td>31</td>\n",
              "      <td>[Airbus]</td>\n",
              "      <td>[Airbus, 25]</td>\n",
              "    </tr>\n",
              "    <tr>\n",
              "      <th>1785</th>\n",
              "      <td>This enables Airbus to measure its environment...</td>\n",
              "      <td>0</td>\n",
              "      <td>22</td>\n",
              "      <td>[Airbus]</td>\n",
              "      <td>[Airbus]</td>\n",
              "    </tr>\n",
              "    <tr>\n",
              "      <th>1886</th>\n",
              "      <td>In connection with our plans to launch flights...</td>\n",
              "      <td>0</td>\n",
              "      <td>34</td>\n",
              "      <td>[Airbus]</td>\n",
              "      <td>[April 2019, A321 Long Range, Airbus, London, ...</td>\n",
              "    </tr>\n",
              "  </tbody>\n",
              "</table>\n",
              "</div>"
            ],
            "text/plain": [
              "                                                   text  label  word_count  \\\n",
              "162   As part of this program we are expecting to in...      0          18   \n",
              "904   In conjunction with the new order, we also res...      0          31   \n",
              "1785  This enables Airbus to measure its environment...      0          22   \n",
              "1886  In connection with our plans to launch flights...      0          34   \n",
              "\n",
              "     companies                                           entities  \n",
              "162   [Airbus]                                     [A320, Airbus]  \n",
              "904   [Airbus]                                       [Airbus, 25]  \n",
              "1785  [Airbus]                                           [Airbus]  \n",
              "1886  [Airbus]  [April 2019, A321 Long Range, Airbus, London, ...  "
            ]
          },
          "metadata": {},
          "output_type": "display_data"
        }
      ],
      "source": [
        "#exploring row that talk about a specific company for example Airbus\n",
        "company_name = \"Airbus\"\n",
        "company_Airbus = df_train[df_train[\"companies\"].apply(lambda x: company_name in x)]\n",
        "display(company_Airbus)\n",
        "\n",
        "#df_train[df_train[\"companies\"].str.contains(\"Airbus\")]"
      ]
    },
    {
      "attachments": {},
      "cell_type": "markdown",
      "metadata": {},
      "source": [
        "Airbus shows only non environmental claims, therefore let's take a look at the top players in terms of count of environmental claims."
      ]
    },
    {
      "cell_type": "code",
      "execution_count": 16,
      "metadata": {
        "id": "0XA0vmKfuGGj",
        "outputId": "ccd9616c-d32f-4d62-a42a-3cc03a49890b"
      },
      "outputs": [
        {
          "data": {
            "text/html": [
              "<div>\n",
              "<style scoped>\n",
              "    .dataframe tbody tr th:only-of-type {\n",
              "        vertical-align: middle;\n",
              "    }\n",
              "\n",
              "    .dataframe tbody tr th {\n",
              "        vertical-align: top;\n",
              "    }\n",
              "\n",
              "    .dataframe thead th {\n",
              "        text-align: right;\n",
              "    }\n",
              "</style>\n",
              "<table border=\"1\" class=\"dataframe\">\n",
              "  <thead>\n",
              "    <tr style=\"text-align: right;\">\n",
              "      <th></th>\n",
              "      <th>text</th>\n",
              "      <th>label</th>\n",
              "      <th>word_count</th>\n",
              "      <th>companies</th>\n",
              "      <th>entities</th>\n",
              "    </tr>\n",
              "  </thead>\n",
              "  <tbody>\n",
              "    <tr>\n",
              "      <th>3</th>\n",
              "      <td>The goal to reduce relative GHG emissions by 2...</td>\n",
              "      <td>1</td>\n",
              "      <td>15</td>\n",
              "      <td>[GHG]</td>\n",
              "      <td>[2013, 20, GHG, 2020]</td>\n",
              "    </tr>\n",
              "    <tr>\n",
              "      <th>5</th>\n",
              "      <td>1.2 Significant Changes to Assets In February ...</td>\n",
              "      <td>1</td>\n",
              "      <td>38</td>\n",
              "      <td>[AGL, the Powering Australian Renewables Fund ...</td>\n",
              "      <td>[the Powering Australian Renewables Fund PARF,...</td>\n",
              "    </tr>\n",
              "    <tr>\n",
              "      <th>7</th>\n",
              "      <td>This not only provides a clean energy solution...</td>\n",
              "      <td>1</td>\n",
              "      <td>23</td>\n",
              "      <td>[]</td>\n",
              "      <td>[]</td>\n",
              "    </tr>\n",
              "    <tr>\n",
              "      <th>9</th>\n",
              "      <td>The Group has therefore built its sustainabili...</td>\n",
              "      <td>1</td>\n",
              "      <td>35</td>\n",
              "      <td>[Group]</td>\n",
              "      <td>[four, Group]</td>\n",
              "    </tr>\n",
              "    <tr>\n",
              "      <th>14</th>\n",
              "      <td>Waste As part of our ambitions to move toward ...</td>\n",
              "      <td>1</td>\n",
              "      <td>23</td>\n",
              "      <td>[]</td>\n",
              "      <td>[]</td>\n",
              "    </tr>\n",
              "  </tbody>\n",
              "</table>\n",
              "</div>"
            ],
            "text/plain": [
              "                                                 text  label  word_count  \\\n",
              "3   The goal to reduce relative GHG emissions by 2...      1          15   \n",
              "5   1.2 Significant Changes to Assets In February ...      1          38   \n",
              "7   This not only provides a clean energy solution...      1          23   \n",
              "9   The Group has therefore built its sustainabili...      1          35   \n",
              "14  Waste As part of our ambitions to move toward ...      1          23   \n",
              "\n",
              "                                            companies  \\\n",
              "3                                               [GHG]   \n",
              "5   [AGL, the Powering Australian Renewables Fund ...   \n",
              "7                                                  []   \n",
              "9                                             [Group]   \n",
              "14                                                 []   \n",
              "\n",
              "                                             entities  \n",
              "3                               [2013, 20, GHG, 2020]  \n",
              "5   [the Powering Australian Renewables Fund PARF,...  \n",
              "7                                                  []  \n",
              "9                                       [four, Group]  \n",
              "14                                                 []  "
            ]
          },
          "metadata": {},
          "output_type": "display_data"
        },
        {
          "name": "stdout",
          "output_type": "stream",
          "text": [
            "Company: [], Count: 305\n",
            "Company: ['Group'], Count: 11\n",
            "Company: ['Company'], Count: 9\n",
            "Company: ['GHG'], Count: 6\n",
            "Company: ['Bank'], Count: 5\n",
            "Company: ['ESG'], Count: 3\n",
            "Company: ['EDF'], Count: 3\n",
            "Company: ['UN'], Count: 3\n",
            "Company: ['VERBUND'], Count: 2\n",
            "Company: ['Tokio Marine Group'], Count: 2\n",
            "Company: ['Alliance'], Count: 2\n"
          ]
        },
        {
          "data": {
            "image/png": "[encoded data removed]",
            "text/plain": [
              "<Figure size 800x600 with 1 Axes>"
            ]
          },
          "metadata": {},
          "output_type": "display_data"
        }
      ],
      "source": [
        "#the above shows that all Airbus claims where labelled as non-environmental claims. To get a better idea of companies that used such statements we focus on environmental claims only.\n",
        "df_train_env= df_train[df_train[\"label\"] ==1]\n",
        "display(df_train_env.head())\n",
        "\n",
        "#looking for multiples in terms of the company name\n",
        "company_counts = df_train_env[\"companies\"].value_counts()\n",
        "multiple_times_env = company_counts[company_counts >1]\n",
        "\n",
        "#displaying companies that have green claims\n",
        "for company, count in multiple_times_env.items():\n",
        "    print(f\"Company: {company}, Count: {count}\")\n",
        "# -> we see that most filtered \"companies\" are not actual companies .> filter accordingly\n",
        "\n",
        "#visually presenting the count of companies that are labelled with environmental claims  \n",
        "# Filter the specific companies\n",
        "selected_companies = [[\"EDF\"], [\"Tokio Marine Group\"]]\n",
        "filtered_counts = multiple_times_env[multiple_times_env.index.isin(selected_companies)]\n",
        "\n",
        "# Plot the counts of selected companies\n",
        "sns.set(style=\"whitegrid\")\n",
        "plt.figure(figsize=(8, 6))\n",
        "\n",
        "sns.barplot(x=filtered_counts.index.map(str), y= filtered_counts.values,color=\"green\")\n",
        "plt.xlabel(\"Company\")\n",
        "plt.ylabel(\"Count\")\n",
        "plt.title(\"Count of Claims from Companies with Environmental Claims\", fontsize =16)\n",
        "plt.xticks(rotation=0)\n",
        "plt.show()"
      ]
    },
    {
      "cell_type": "code",
      "execution_count": 17,
      "metadata": {
        "id": "O7SHS6NPuGGj",
        "outputId": "c0bbb994-78f0-427d-c951-267de19ca319"
      },
      "outputs": [
        {
          "data": {
            "text/html": [
              "<div>\n",
              "<style scoped>\n",
              "    .dataframe tbody tr th:only-of-type {\n",
              "        vertical-align: middle;\n",
              "    }\n",
              "\n",
              "    .dataframe tbody tr th {\n",
              "        vertical-align: top;\n",
              "    }\n",
              "\n",
              "    .dataframe thead th {\n",
              "        text-align: right;\n",
              "    }\n",
              "</style>\n",
              "<table border=\"1\" class=\"dataframe\">\n",
              "  <thead>\n",
              "    <tr style=\"text-align: right;\">\n",
              "      <th></th>\n",
              "      <th>text</th>\n",
              "      <th>label</th>\n",
              "    </tr>\n",
              "  </thead>\n",
              "  <tbody>\n",
              "    <tr>\n",
              "      <th>242</th>\n",
              "      <td>The hydropower facilities have positive effects on both economic development and the environment, and EDF applies a proactive management policy in relation to water resources, in liaison with various water stakeholders.</td>\n",
              "      <td>1</td>\n",
              "    </tr>\n",
              "    <tr>\n",
              "      <th>632</th>\n",
              "      <td>Within the EpE (3), EDF also contributed to a global study on the carbon neutrality of France in 2050.</td>\n",
              "      <td>1</td>\n",
              "    </tr>\n",
              "    <tr>\n",
              "      <th>738</th>\n",
              "      <td>All EDF group business lines are working to cut the carbon impact of the refrigerating fluids they use.</td>\n",
              "      <td>1</td>\n",
              "    </tr>\n",
              "    <tr>\n",
              "      <th>753</th>\n",
              "      <td>In March 2020, EDF committed with ARVAL to facilitating access to electric mobility for both business and residential customers, based on IZI by EDF.</td>\n",
              "      <td>0</td>\n",
              "    </tr>\n",
              "    <tr>\n",
              "      <th>949</th>\n",
              "      <td>In January 2021, the EDF group ranked first in the list of the most credible companies in terms of communication, in the utilities/energy category (1).</td>\n",
              "      <td>0</td>\n",
              "    </tr>\n",
              "    <tr>\n",
              "      <th>1012</th>\n",
              "      <td>As part of the \"Coup de Pouce Chauffage\" (3) scheme, EDF launched in January 2019 its \"Mon chauffage durable\" offer, to finance replacing ageing heating systems by more efficient ones.</td>\n",
              "      <td>0</td>\n",
              "    </tr>\n",
              "    <tr>\n",
              "      <th>1534</th>\n",
              "      <td>Consequently, the Group has an “energy markets” risk policy for all energy commodities, applicable to EDF and entities over which it has operational control.</td>\n",
              "      <td>0</td>\n",
              "    </tr>\n",
              "    <tr>\n",
              "      <th>1556</th>\n",
              "      <td>In terms of new business lines, EDF is aiming to have a portfolio of 1 million off-grid kits by 2030 and is pursuing the development of new markets such as microgrids, smart grids, storage, hydrogen, mobility, smart cities, etc.,</td>\n",
              "      <td>0</td>\n",
              "    </tr>\n",
              "  </tbody>\n",
              "</table>\n",
              "</div>"
            ],
            "text/plain": [
              "                                                                                                                                                                                                                                       text  \\\n",
              "242             The hydropower facilities have positive effects on both economic development and the environment, and EDF applies a proactive management policy in relation to water resources, in liaison with various water stakeholders.   \n",
              "632                                                                                                                                  Within the EpE (3), EDF also contributed to a global study on the carbon neutrality of France in 2050.   \n",
              "738                                                                                                                                 All EDF group business lines are working to cut the carbon impact of the refrigerating fluids they use.   \n",
              "753                                                                                   In March 2020, EDF committed with ARVAL to facilitating access to electric mobility for both business and residential customers, based on IZI by EDF.   \n",
              "949                                                                                 In January 2021, the EDF group ranked first in the list of the most credible companies in terms of communication, in the utilities/energy category (1).   \n",
              "1012                                               As part of the \"Coup de Pouce Chauffage\" (3) scheme, EDF launched in January 2019 its \"Mon chauffage durable\" offer, to finance replacing ageing heating systems by more efficient ones.   \n",
              "1534                                                                          Consequently, the Group has an “energy markets” risk policy for all energy commodities, applicable to EDF and entities over which it has operational control.   \n",
              "1556  In terms of new business lines, EDF is aiming to have a portfolio of 1 million off-grid kits by 2030 and is pursuing the development of new markets such as microgrids, smart grids, storage, hydrogen, mobility, smart cities, etc.,   \n",
              "\n",
              "      label  \n",
              "242       1  \n",
              "632       1  \n",
              "738       1  \n",
              "753       0  \n",
              "949       0  \n",
              "1012      0  \n",
              "1534      0  \n",
              "1556      0  "
            ]
          },
          "metadata": {},
          "output_type": "display_data"
        }
      ],
      "source": [
        "#check statements with multiple company counts including green and non green claims // eg: EDF = British integrated energy company, French state-owned by EDF (Électricité de France)\n",
        "pd.set_option('display.max_colwidth', None)# setting wide column to display whole text\n",
        "company_name = \"EDF\"\n",
        "company_EDF = df_train[df_train[\"companies\"].apply(lambda x: company_name in x)]\n",
        "display(company_EDF[[\"text\",\"label\"]])\n",
        "\n",
        "pd.reset_option('display.max_colwidth') # resetting the column size to normal"
      ]
    },
    {
      "attachments": {},
      "cell_type": "markdown",
      "metadata": {
        "id": "5fvpWZZ6uGGl"
      },
      "source": [
        "EDF and Tokio Marine Group are companies that appear within both top lists, and therefore have examples of non-/environmental claims. Therefore, there are several statements from some companies, while some are labelled as environmental claims, while others are not. "
      ]
    },
    {
      "attachments": {},
      "cell_type": "markdown",
      "metadata": {
        "id": "iDFiRnqtuGGl"
      },
      "source": [
        "#### 3. Explore time period within sentences"
      ]
    },
    {
      "attachments": {},
      "cell_type": "markdown",
      "metadata": {},
      "source": [
        "Lastly, we will explore the years that are stated within the claims. Again, this does not necessarily mean, a claim was made in that year, but rather it refers to a previous or upcoming event or goal."
      ]
    },
    {
      "cell_type": "code",
      "execution_count": 18,
      "metadata": {
        "id": "BA5tw3QFuGGm",
        "outputId": "807dd6d9-48de-4ff3-f2a7-77ced64c2368"
      },
      "outputs": [
        {
          "name": "stderr",
          "output_type": "stream",
          "text": [
            "C:\\Users\\Charlotte Ahrens\\AppData\\Local\\Temp\\ipykernel_5960\\1419733408.py:15: SettingWithCopyWarning: \n",
            "A value is trying to be set on a copy of a slice from a DataFrame.\n",
            "Try using .loc[row_indexer,col_indexer] = value instead\n",
            "\n",
            "See the caveats in the documentation: https://pandas.pydata.org/pandas-docs/stable/user_guide/indexing.html#returning-a-view-versus-a-copy\n",
            "  df_train_env[\"year\"] = year\n"
          ]
        },
        {
          "data": {
            "text/html": [
              "<div>\n",
              "<style scoped>\n",
              "    .dataframe tbody tr th:only-of-type {\n",
              "        vertical-align: middle;\n",
              "    }\n",
              "\n",
              "    .dataframe tbody tr th {\n",
              "        vertical-align: top;\n",
              "    }\n",
              "\n",
              "    .dataframe thead th {\n",
              "        text-align: right;\n",
              "    }\n",
              "</style>\n",
              "<table border=\"1\" class=\"dataframe\">\n",
              "  <thead>\n",
              "    <tr style=\"text-align: right;\">\n",
              "      <th></th>\n",
              "      <th>text</th>\n",
              "      <th>label</th>\n",
              "      <th>word_count</th>\n",
              "      <th>companies</th>\n",
              "      <th>entities</th>\n",
              "      <th>year</th>\n",
              "    </tr>\n",
              "  </thead>\n",
              "  <tbody>\n",
              "    <tr>\n",
              "      <th>3</th>\n",
              "      <td>The goal to reduce relative GHG emissions by 2...</td>\n",
              "      <td>1</td>\n",
              "      <td>15</td>\n",
              "      <td>[GHG]</td>\n",
              "      <td>[2013, 20, GHG, 2020]</td>\n",
              "      <td>[2013, 2020]</td>\n",
              "    </tr>\n",
              "    <tr>\n",
              "      <th>5</th>\n",
              "      <td>1.2 Significant Changes to Assets In February ...</td>\n",
              "      <td>1</td>\n",
              "      <td>38</td>\n",
              "      <td>[AGL, the Powering Australian Renewables Fund ...</td>\n",
              "      <td>[the Powering Australian Renewables Fund PARF,...</td>\n",
              "      <td>[February 2016]</td>\n",
              "    </tr>\n",
              "    <tr>\n",
              "      <th>7</th>\n",
              "      <td>This not only provides a clean energy solution...</td>\n",
              "      <td>1</td>\n",
              "      <td>23</td>\n",
              "      <td>[]</td>\n",
              "      <td>[]</td>\n",
              "      <td>[]</td>\n",
              "    </tr>\n",
              "    <tr>\n",
              "      <th>9</th>\n",
              "      <td>The Group has therefore built its sustainabili...</td>\n",
              "      <td>1</td>\n",
              "      <td>35</td>\n",
              "      <td>[Group]</td>\n",
              "      <td>[four, Group]</td>\n",
              "      <td>[]</td>\n",
              "    </tr>\n",
              "    <tr>\n",
              "      <th>14</th>\n",
              "      <td>Waste As part of our ambitions to move toward ...</td>\n",
              "      <td>1</td>\n",
              "      <td>23</td>\n",
              "      <td>[]</td>\n",
              "      <td>[]</td>\n",
              "      <td>[]</td>\n",
              "    </tr>\n",
              "    <tr>\n",
              "      <th>...</th>\n",
              "      <td>...</td>\n",
              "      <td>...</td>\n",
              "      <td>...</td>\n",
              "      <td>...</td>\n",
              "      <td>...</td>\n",
              "      <td>...</td>\n",
              "    </tr>\n",
              "    <tr>\n",
              "      <th>2383</th>\n",
              "      <td>I would also just say that things -- we are on...</td>\n",
              "      <td>1</td>\n",
              "      <td>17</td>\n",
              "      <td>[]</td>\n",
              "      <td>[]</td>\n",
              "      <td>[]</td>\n",
              "    </tr>\n",
              "    <tr>\n",
              "      <th>2384</th>\n",
              "      <td>In 2019, we purchased 128,873 tonnes of United...</td>\n",
              "      <td>1</td>\n",
              "      <td>27</td>\n",
              "      <td>[United Nations, GHG emissions12]</td>\n",
              "      <td>[128873, 3, 1 2, GHG emissions12, fiscal 2019,...</td>\n",
              "      <td>[128873, fiscal 2019, 2019]</td>\n",
              "    </tr>\n",
              "    <tr>\n",
              "      <th>2391</th>\n",
              "      <td>We have committed to reach net-zero greenhouse...</td>\n",
              "      <td>1</td>\n",
              "      <td>16</td>\n",
              "      <td>[]</td>\n",
              "      <td>[2050]</td>\n",
              "      <td>[2050]</td>\n",
              "    </tr>\n",
              "    <tr>\n",
              "      <th>2393</th>\n",
              "      <td>Furthermore, we will contribute to the prevent...</td>\n",
              "      <td>1</td>\n",
              "      <td>23</td>\n",
              "      <td>[IoT]</td>\n",
              "      <td>[IoT]</td>\n",
              "      <td>[]</td>\n",
              "    </tr>\n",
              "    <tr>\n",
              "      <th>2395</th>\n",
              "      <td>The collaboration will enable Nestlé to delive...</td>\n",
              "      <td>1</td>\n",
              "      <td>26</td>\n",
              "      <td>[Nestle]</td>\n",
              "      <td>[Nestle]</td>\n",
              "      <td>[]</td>\n",
              "    </tr>\n",
              "  </tbody>\n",
              "</table>\n",
              "<p>542 rows × 6 columns</p>\n",
              "</div>"
            ],
            "text/plain": [
              "                                                   text  label  word_count  \\\n",
              "3     The goal to reduce relative GHG emissions by 2...      1          15   \n",
              "5     1.2 Significant Changes to Assets In February ...      1          38   \n",
              "7     This not only provides a clean energy solution...      1          23   \n",
              "9     The Group has therefore built its sustainabili...      1          35   \n",
              "14    Waste As part of our ambitions to move toward ...      1          23   \n",
              "...                                                 ...    ...         ...   \n",
              "2383  I would also just say that things -- we are on...      1          17   \n",
              "2384  In 2019, we purchased 128,873 tonnes of United...      1          27   \n",
              "2391  We have committed to reach net-zero greenhouse...      1          16   \n",
              "2393  Furthermore, we will contribute to the prevent...      1          23   \n",
              "2395  The collaboration will enable Nestlé to delive...      1          26   \n",
              "\n",
              "                                              companies  \\\n",
              "3                                                 [GHG]   \n",
              "5     [AGL, the Powering Australian Renewables Fund ...   \n",
              "7                                                    []   \n",
              "9                                               [Group]   \n",
              "14                                                   []   \n",
              "...                                                 ...   \n",
              "2383                                                 []   \n",
              "2384                  [United Nations, GHG emissions12]   \n",
              "2391                                                 []   \n",
              "2393                                              [IoT]   \n",
              "2395                                           [Nestle]   \n",
              "\n",
              "                                               entities  \\\n",
              "3                                 [2013, 20, GHG, 2020]   \n",
              "5     [the Powering Australian Renewables Fund PARF,...   \n",
              "7                                                    []   \n",
              "9                                         [four, Group]   \n",
              "14                                                   []   \n",
              "...                                                 ...   \n",
              "2383                                                 []   \n",
              "2384  [128873, 3, 1 2, GHG emissions12, fiscal 2019,...   \n",
              "2391                                             [2050]   \n",
              "2393                                              [IoT]   \n",
              "2395                                           [Nestle]   \n",
              "\n",
              "                             year  \n",
              "3                    [2013, 2020]  \n",
              "5                 [February 2016]  \n",
              "7                              []  \n",
              "9                              []  \n",
              "14                             []  \n",
              "...                           ...  \n",
              "2383                           []  \n",
              "2384  [128873, fiscal 2019, 2019]  \n",
              "2391                       [2050]  \n",
              "2393                           []  \n",
              "2395                           []  \n",
              "\n",
              "[542 rows x 6 columns]"
            ]
          },
          "metadata": {},
          "output_type": "display_data"
        },
        {
          "name": "stdout",
          "output_type": "stream",
          "text": [
            "Index([                                         [],\n",
            "                         ['06891', '2019', '2018'],\n",
            "                                ['1 January 2016'],\n",
            "                                       ['10 year'],\n",
            "                              ['11 years', '1978'],\n",
            "                 ['128873', 'fiscal 2019', '2019'],\n",
            "                                         ['16128'],\n",
            "                                 ['20 yearonyear'],\n",
            "                                          ['2004'],\n",
            "                              ['2005', 'annually'],\n",
            "                                          ['2007'],\n",
            "                       ['2007-12', '2009', '2007'],\n",
            "                                          ['2009'],\n",
            "                                          ['2010'],\n",
            "                                          ['2013'],\n",
            "                                  ['2013', '2020'],\n",
            "                                        ['201314'],\n",
            "                                          ['2014'],\n",
            "                                      ['20142020'],\n",
            "                                          ['2015'],\n",
            "                                          ['2016'],\n",
            "                          ['2016', '2007', '2015'],\n",
            "                                  ['2016', '2020'],\n",
            "                 ['2016', 'our base year', '2014'],\n",
            "                                          ['2017'],\n",
            "                      ['2017', '31 December 2020'],\n",
            "                                        ['201718'],\n",
            "                                          ['2018'],\n",
            "                                          ['2019'],\n",
            "                                  ['2019', '2020'],\n",
            "                       ['2019 93', '2019', '2018'],\n",
            "                                          ['2020'],\n",
            "                                          ['2021'],\n",
            "                                  ['2021', '2015'],\n",
            "                          ['2021', '2018', '2015'],\n",
            "                                     ['2021-2025'],\n",
            "                                          ['2025'],\n",
            "                                          ['2030'],\n",
            "                                  ['2030', '2015'],\n",
            "                       ['2030', 'the next decade'],\n",
            "                                          ['2050'],\n",
            "                                          ['2221'],\n",
            "                                  ['3050', '2025'],\n",
            "                           ['31 December 2015 71'],\n",
            "                                       ['40 2017'],\n",
            "                              ['46', '47', '2019'],\n",
            "                                    ['April 2019'],\n",
            "                                 ['February 2016'],\n",
            "                                ['January 1 2020'],\n",
            "                                     ['June 2018'],\n",
            "                                    ['March 2018'],\n",
            "                               ['October', '2050'],\n",
            "                                ['September 2020'],\n",
            "                                     ['This year'],\n",
            "                                         ['Today'],\n",
            "                                        ['a year'],\n",
            "                                        ['annual'],\n",
            "                                ['annual', '2020'],\n",
            "                           ['annual', 'multiyear'],\n",
            "                                      ['annually'],\n",
            "                         ['annually', 'quarterly'],\n",
            "                         ['between 2009 and 2020'],\n",
            "                         ['between 2013 and 2015'],\n",
            "       ['between December 2013 and December 2017'],\n",
            "                                         ['daily'],\n",
            "                             ['daily', 'the year'],\n",
            "                                     ['each year'],\n",
            "                                   ['fiscal 2013'],\n",
            "                                   ['fiscal 2030'],\n",
            "                                    ['five years'],\n",
            "                                    ['many years'],\n",
            "                                  ['recent years'],\n",
            "                         ['the beginning of 2015'],\n",
            "                          ['the coming two years'],\n",
            "                              ['the coming years'],\n",
            "                       ['the end of 2015', '2010'],\n",
            "                       ['the end of 2015', '2014'],\n",
            "                        ['the end of the', '2021'],\n",
            "                           ['the end of the year'],\n",
            "                           ['the eve of the 21st'],\n",
            "                   ['the first quarter this year'],\n",
            "                     ['the middle of the century'],\n",
            "                           ['the next five years'],\n",
            "                    ['the past 10 years', 'today'],\n",
            "                            ['the past 18 months'],\n",
            "                           ['the past five years'],\n",
            "                    ['the period of 2005', '2020'],\n",
            "                             ['the previous year'],\n",
            "                                      ['the year'],\n",
            "                                     ['the years'],\n",
            "                                     ['this year'],\n",
            "                                         ['today'],\n",
            "                                      ['tomorrow'],\n",
            "                               ['year 12', '1992']],\n",
            "      dtype='object')\n"
          ]
        }
      ],
      "source": [
        "#check statements based on year-> did the count increase? This is difficult to show since the \n",
        "year = []\n",
        "for text in df_train_env[\"text\"]:\n",
        "    #remove punctuation\n",
        "    text = text.translate(str.maketrans(\"\",\"\", string.punctuation))\n",
        "    #change accented characters like é -> e\n",
        "    text = unidecode.unidecode(text)\n",
        "    doc = sp(text)\n",
        "    years = [ent.text for ent in doc.ents if ent.label_ == \"DATE\"]\n",
        "    #remove duplicates and empty strings\n",
        "    years = list(set([year.strip() for year in years if year.strip()]))\n",
        "    year.append(years)\n",
        "    \n",
        "df_train_env.copy()\n",
        "df_train_env[\"year\"] = year\n",
        "display(df_train_env)\n",
        "year_counts = df_train_env[\"year\"].value_counts()\n",
        "print(year_counts.index.sort_values(ascending=True))"
      ]
    },
    {
      "attachments": {},
      "cell_type": "markdown",
      "metadata": {},
      "source": [
        "The table above gives shows dates for each sentence, where any kind of date is indicated. In order to unify the various date formats, we focus only on the year given within the sentence. "
      ]
    },
    {
      "cell_type": "code",
      "execution_count": 19,
      "metadata": {
        "id": "ii_SrVIouGGm",
        "outputId": "c6a5aa54-587a-4748-b19f-f8a3fd59a9d7"
      },
      "outputs": [
        {
          "data": {
            "image/png": "[encoded data removed]",
            "text/plain": [
              "<Figure size 1000x600 with 1 Axes>"
            ]
          },
          "metadata": {},
          "output_type": "display_data"
        }
      ],
      "source": [
        "year_indexes = df_train_env[\"year\"].dropna().index\n",
        "\n",
        "# Extracting years starting from 1900and removing months and days\n",
        "years = [re.findall(r\"\\b(?:19|20|21)\\d{2}\\b\", str(year)) for year in df_train_env.loc[year_indexes, \"year\"]]\n",
        "filtered_years = [year[0] if year else \"\" for year in years]  # Keep the first year only as otherwise we cannot interpret the year\n",
        "\n",
        "# Assigning the filtered years back to the DataFrame\n",
        "df_train_env.loc[year_indexes, \"year\"] = filtered_years\n",
        "filtered_years\n",
        "\n",
        "# Counting the occurrences of each year\n",
        "year_counts = pd.Series(filtered_years).value_counts().sort_index()\n",
        "\n",
        "# Filtering years starting from 1900\n",
        "filtered_year_counts = year_counts[year_counts.index >= \"1900\"]\n",
        "\n",
        "sns.set(style=\"whitegrid\")\n",
        "plt.figure(figsize=(10, 6))\n",
        "\n",
        "sns.lineplot(x=filtered_year_counts.index, y=filtered_year_counts.values, marker='o')\n",
        "plt.xlabel(\"Year\")\n",
        "plt.ylabel(\"Count\")\n",
        "plt.title(\"Count of environmental claims that state the given year\", fontsize=16)\n",
        "plt.xticks(rotation=45)\n",
        "plt.grid(True)\n",
        "plt.show()\n"
      ]
    },
    {
      "attachments": {},
      "cell_type": "markdown",
      "metadata": {
        "id": "uPukvIRvuGGm"
      },
      "source": [
        "**The key takeaways of the Exploratory Data Analysis (EDA) are the following:**\n",
        "- The training and test set is quite unbalanced in terms of labelled=0 and labelled=1 data. Therefore, working on the dataset will also be key on achieving the best prediction metrics.\n",
        "- The most common words within the training set are as expected articles like (\"the\", \"a\"), prepositions (\"to\",\"of\",\"in\"), and various forms of the verbs (\"to be\",\" to have\"). It will be important to give those words less importance for example through the TF-IDF model. This is why we will use a tokenizer. The most important word that gives a hint about the context is \"energy\", on rank 18th with a count of 290 words across all claims. \n",
        "- By focusing on Environmental claims and utilizing a tokenizer that eliminates insignificant words, as discussed earlier, we successfully identified recurring buzz words in these types of sentences. The top three are \"energy\" \"environmental\" and \"reduce.\" Based on this finding, phrases within our testing set that incorporate these words are more inclined to be classified as environmental claims in our predictive model. \n",
        "\n",
        "- When selecting the claims that are coming from a specific company, we have four main observations:\n",
        "    1. Within the 2400 claims the sample shows multiple claims from one company.\n",
        "    2. The company is not determining if a claim is labels as environmental or not since we find both labels within claims of the same company.\n",
        "    3. We only have the company's name for a minority of the claims. \n",
        "    4. Considering only environmental claims, we have multiple claims and the company name information only for EDF, an Energy firm in the UK as  well as for Tokio Marine Group, a multinational insurance holding company, based in Tokyo, Japan.    \n",
        "    \n",
        "- When selecting the claims that are specifying a given year, the main observations are: \n",
        "    1. 2015, 2019 and 2020 show a relative peak in environmental claims. 2015 is likely to be due to teh year of the Paris Agreement, meaning several claims where either made in that time or refer to that year within their statement. In terms of the rise in the year 2019 and 2020, it is likely to be mentioned more often due to the time period when the dataset was fed with claims.\n",
        "    2. Years that lay in the future are likely to come from claims that state information about future targets.\n",
        "    3. Due to the high amount of missing years for environmental claims, the line graph gives just an idea of behavior, but no concrete information."
      ]
    },
    {
      "attachments": {},
      "cell_type": "markdown",
      "metadata": {},
      "source": []
    }
  ],
  "metadata": {
    "accelerator": "GPU",
    "colab": {
      "gpuType": "T4",
      "provenance": [],
      "toc_visible": true
    },
    "gpuClass": "standard",
    "kernelspec": {
      "display_name": "Python 3",
      "name": "python3"
    },
    "language_info": {
      "codemirror_mode": {
        "name": "ipython",
        "version": 3
      },
      "file_extension": ".py",
      "mimetype": "text/x-python",
      "name": "python",
      "nbconvert_exporter": "python",
      "pygments_lexer": "ipython3",
      "version": "3.9.16"
    }
  },
  "nbformat": 4,
  "nbformat_minor": 0
}
