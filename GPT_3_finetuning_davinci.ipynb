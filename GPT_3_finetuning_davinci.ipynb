{
  "cells": [
    {
      "cell_type": "code",
      "execution_count": null,
      "id": "h9lriOrNHqCG",
      "metadata": {
        "colab": {
          "base_uri": "https://localhost:8080/"
        },
        "id": "h9lriOrNHqCG",
        "outputId": "0b967cce-939d-491b-a840-84b02c96f0ad"
      },
      "outputs": [
        {
          "name": "stdout",
          "output_type": "stream",
          "text": [
            "Looking in indexes: https://pypi.org/simple, https://us-python.pkg.dev/colab-wheels/public/simple/\n",
            "Collecting openai\n",
            "  Downloading openai-0.27.7-py3-none-any.whl (71 kB)\n",
            "\u001b[2K     \u001b[90m━━━━━━━━━━━━━━━━━━━━━━━━━━━━━━━━━━━━━━━━\u001b[0m \u001b[32m72.0/72.0 kB\u001b[0m \u001b[31m2.2 MB/s\u001b[0m eta \u001b[36m0:00:00\u001b[0m\n",
            "\u001b[?25hRequirement already satisfied: requests>=2.20 in /usr/local/lib/python3.10/dist-packages (from openai) (2.27.1)\n",
            "Requirement already satisfied: tqdm in /usr/local/lib/python3.10/dist-packages (from openai) (4.65.0)\n",
            "Collecting aiohttp (from openai)\n",
            "  Downloading aiohttp-3.8.4-cp310-cp310-manylinux_2_17_x86_64.manylinux2014_x86_64.whl (1.0 MB)\n",
            "\u001b[2K     \u001b[90m━━━━━━━━━━━━━━━━━━━━━━━━━━━━━━━━━━━━━━━━\u001b[0m \u001b[32m1.0/1.0 MB\u001b[0m \u001b[31m17.9 MB/s\u001b[0m eta \u001b[36m0:00:00\u001b[0m\n",
            "\u001b[?25hRequirement already satisfied: urllib3<1.27,>=1.21.1 in /usr/local/lib/python3.10/dist-packages (from requests>=2.20->openai) (1.26.15)\n",
            "Requirement already satisfied: certifi>=2017.4.17 in /usr/local/lib/python3.10/dist-packages (from requests>=2.20->openai) (2022.12.7)\n",
            "Requirement already satisfied: charset-normalizer~=2.0.0 in /usr/local/lib/python3.10/dist-packages (from requests>=2.20->openai) (2.0.12)\n",
            "Requirement already satisfied: idna<4,>=2.5 in /usr/local/lib/python3.10/dist-packages (from requests>=2.20->openai) (3.4)\n",
            "Requirement already satisfied: attrs>=17.3.0 in /usr/local/lib/python3.10/dist-packages (from aiohttp->openai) (23.1.0)\n",
            "Collecting multidict<7.0,>=4.5 (from aiohttp->openai)\n",
            "  Downloading multidict-6.0.4-cp310-cp310-manylinux_2_17_x86_64.manylinux2014_x86_64.whl (114 kB)\n",
            "\u001b[2K     \u001b[90m━━━━━━━━━━━━━━━━━━━━━━━━━━━━━━━━━━━━━━━\u001b[0m \u001b[32m114.5/114.5 kB\u001b[0m \u001b[31m5.1 MB/s\u001b[0m eta \u001b[36m0:00:00\u001b[0m\n",
            "\u001b[?25hCollecting async-timeout<5.0,>=4.0.0a3 (from aiohttp->openai)\n",
            "  Downloading async_timeout-4.0.2-py3-none-any.whl (5.8 kB)\n",
            "Collecting yarl<2.0,>=1.0 (from aiohttp->openai)\n",
            "  Downloading yarl-1.9.2-cp310-cp310-manylinux_2_17_x86_64.manylinux2014_x86_64.whl (268 kB)\n",
            "\u001b[2K     \u001b[90m━━━━━━━━━━━━━━━━━━━━━━━━━━━━━━━━━━━━━━━\u001b[0m \u001b[32m268.8/268.8 kB\u001b[0m \u001b[31m7.5 MB/s\u001b[0m eta \u001b[36m0:00:00\u001b[0m\n",
            "\u001b[?25hCollecting frozenlist>=1.1.1 (from aiohttp->openai)\n",
            "  Downloading frozenlist-1.3.3-cp310-cp310-manylinux_2_5_x86_64.manylinux1_x86_64.manylinux_2_17_x86_64.manylinux2014_x86_64.whl (149 kB)\n",
            "\u001b[2K     \u001b[90m━━━━━━━━━━━━━━━━━━━━━━━━━━━━━━━━━━━━━━━\u001b[0m \u001b[32m149.6/149.6 kB\u001b[0m \u001b[31m4.4 MB/s\u001b[0m eta \u001b[36m0:00:00\u001b[0m\n",
            "\u001b[?25hCollecting aiosignal>=1.1.2 (from aiohttp->openai)\n",
            "  Downloading aiosignal-1.3.1-py3-none-any.whl (7.6 kB)\n",
            "Installing collected packages: multidict, frozenlist, async-timeout, yarl, aiosignal, aiohttp, openai\n",
            "Successfully installed aiohttp-3.8.4 aiosignal-1.3.1 async-timeout-4.0.2 frozenlist-1.3.3 multidict-6.0.4 openai-0.27.7 yarl-1.9.2\n"
          ]
        }
      ],
      "source": [
        "# Import\n",
        "import pandas as pd\n",
        "import openai\n",
        "import numpy as np\n",
        "from sklearn.metrics import confusion_matrix, accuracy_score\n",
        "from sklearn.metrics import precision_score, recall_score, f1_score  # Precision, recall, and f1 score\n",
        "import matplotlib.pyplot as plt\n",
        "import seaborn as sns\n",
        "import locale\n",
        "locale.setlocale(locale.LC_ALL, 'en_US.UTF-8')\n",
        "!pip install openai"
      ]
    },
    {
      "cell_type": "markdown",
      "source": [
        "# Introduction to the Notebook\n",
        "\n",
        "The primary purposes of this notebook are:\n",
        "\n",
        "- Using GTP-3 Text classifier with ada davinci\n",
        "- Dipslay the performance metrics \n"
      ],
      "metadata": {
        "id": "rB637y5DSRxL"
      },
      "id": "rB637y5DSRxL"
    },
    {
      "cell_type": "markdown",
      "source": [
        "In this notebook, we will use  the Generative Pre-trained Transformer 3 (GPT-3) from OpenAI to build our text classifier. The model used is davinci.\n",
        "\n",
        "Additionally, to optimize the performance metrics, we will integrate the previously excluded development data. By merging these two files, we create a new training dataset comprising 2700 observations. Our  objective is to achieve the highest possible accuracy level.\n",
        "\n",
        "The confusion matrix and the perfomance metrics can be found at the end of the notebook. "
      ],
      "metadata": {
        "id": "LtmJlystSRaB"
      },
      "id": "LtmJlystSRaB"
    },
    {
      "cell_type": "markdown",
      "source": [
        "# Finetuning with openai API - davinci model"
      ],
      "metadata": {
        "id": "00FAa6voSgWT"
      },
      "id": "00FAa6voSgWT"
    },
    {
      "cell_type": "code",
      "execution_count": null,
      "id": "d65c7e7e",
      "metadata": {
        "id": "d65c7e7e"
      },
      "outputs": [],
      "source": [
        "# Import training dataset\n",
        "url_train = \"https://huggingface.co/datasets/climatebert/environmental_claims/raw/main/data/train.jsonl\"\n",
        "df_train = pd.read_json(url_train, lines=True)\n",
        "#df_train\n",
        "\n",
        "# Import training dataset\n",
        "url_valid = \"https://huggingface.co/datasets/climatebert/environmental_claims/raw/main/data/dev.jsonl\"\n",
        "df_valid = pd.read_json(url_valid, lines=True)\n",
        "#df_valid\n",
        "\n",
        "# Import testing dataset\n",
        "url_test = \"https://huggingface.co/datasets/climatebert/environmental_claims/raw/main/data/test.jsonl\"\n",
        "df_test = pd.read_json(url_test, lines=True)\n",
        "#df_test"
      ]
    },
    {
      "cell_type": "markdown",
      "source": [
        "## Training data set"
      ],
      "metadata": {
        "id": "Qvpd_eTzSq6y"
      },
      "id": "Qvpd_eTzSq6y"
    },
    {
      "cell_type": "code",
      "execution_count": null,
      "id": "3f76d7c4",
      "metadata": {
        "id": "3f76d7c4"
      },
      "outputs": [],
      "source": [
        "# Renaming columns and modifying data in the training DataFrame\n",
        "df_train = df_train.rename(columns={'text':'prompt','label':'completion'})\n",
        "df_train['completion'] = df_train['completion'].astype(str)\n",
        "df_train['prompt'] = df_train['prompt'] + '->'\n",
        "df_train['completion'] = ' ' + df_train['completion'] + '.\\n'\n",
        "\n",
        "# Renaming columns and modifying data in the validation DataFrame\n",
        "df_valid = df_valid.rename(columns={'text':'prompt','label':'completion'})\n",
        "df_valid['completion'] = df_valid['completion'].astype(str)\n",
        "df_valid['prompt'] = df_valid['prompt'] + '->'\n",
        "df_valid['completion'] = ' ' + df_valid['completion'] + '.\\n'\n",
        "\n",
        "# Concatenating the training and validation DataFrames\n",
        "df_train = pd.concat([df_train, df_valid],ignore_index=True)\n",
        "\n",
        "# Saving the training DataFrame to a JSON file\n",
        "df_train.to_json(\"training_data.json\", orient='records', lines=True)"
      ]
    },
    {
      "cell_type": "code",
      "execution_count": null,
      "id": "7b0b190f",
      "metadata": {
        "colab": {
          "base_uri": "https://localhost:8080/"
        },
        "id": "7b0b190f",
        "outputId": "7a7e5bdc-00b5-4ae5-d431-901695d23e8d"
      },
      "outputs": [
        {
          "name": "stdout",
          "output_type": "stream",
          "text": [
            "Analyzing...\n",
            "\n",
            "- Your JSON file appears to be in a JSONL format. Your file will be converted to JSONL format\n",
            "- Your file contains 2700 prompt-completion pairs\n",
            "- Based on your data it seems like you're trying to fine-tune a model for classification\n",
            "- For classification, we recommend you try one of the faster and cheaper models, such as `ada`\n",
            "- For classification, you can estimate the expected model performance by keeping a held out dataset, which is not used for training\n",
            "- All prompts end with suffix `->`\n",
            "\n",
            "Based on the analysis we will perform the following actions:\n",
            "- [Necessary] Your format `JSON` will be converted to `JSONL`\n",
            "- [Recommended] Would you like to split into training and validation set? [Y/n]: Y\n",
            "\n",
            "\n",
            "Your data will be written to a new JSONL file. Proceed [Y/n]: Y\n",
            "\n",
            "Wrote modified files to `training_data_prepared_train.jsonl` and `training_data_prepared_valid.jsonl`\n",
            "Feel free to take a look!\n",
            "\n",
            "Now use that file when fine-tuning:\n",
            "> openai api fine_tunes.create -t \"training_data_prepared_train.jsonl\" -v \"training_data_prepared_valid.jsonl\" --compute_classification_metrics --classification_positive_class \" 0.\n",
            "\"\n",
            "\n",
            "After you’ve fine-tuned a model, remember that your prompt has to end with the indicator string `->` for the model to start generating completions, rather than continuing with the prompt. Make sure to include `stop=[\".\\n\"]` so that the generated texts ends at the expected place.\n",
            "Once your model starts training, it'll approximately take 1.12 hours to train a `curie` model, and less for `ada` and `babbage`. Queue will approximately take half an hour per job ahead of you.\n"
          ]
        }
      ],
      "source": [
        "# Preparing the data for fine-tuning using the OpenAI tools\n",
        "!openai tools fine_tunes.prepare_data -f training_data.json"
      ]
    },
    {
      "cell_type": "markdown",
      "source": [
        "In the following cell, we specify that we want to train our model with davinci."
      ],
      "metadata": {
        "id": "mV9kmGPsTKX5"
      },
      "id": "mV9kmGPsTKX5"
    },
    {
      "cell_type": "code",
      "execution_count": null,
      "id": "7e0fa5cc",
      "metadata": {
        "colab": {
          "base_uri": "https://localhost:8080/"
        },
        "id": "7e0fa5cc",
        "outputId": "7ab71cd9-880b-46c2-c1f8-b16889f3896b"
      },
      "outputs": [
        {
          "name": "stdout",
          "output_type": "stream",
          "text": [
            "Found potentially duplicated files with name 'training_data_prepared_train.jsonl', purpose 'fine-tune' and size 410387 bytes\n",
            "file-aw4i9N9N4TtS7uKRp1BITZz9\n",
            "file-N5jfzXQcesVvQX3Jr5xRPPK4\n",
            "Enter file ID to reuse an already uploaded file, or an empty string to upload this file anyway: N5jfzXQcesVvQX3Jr5xRPPK4\n",
            "File id 'N5jfzXQcesVvQX3Jr5xRPPK4' is not among the IDs of the potentially duplicated files\n",
            "\n",
            "Enter file ID to reuse an already uploaded file, or an empty string to upload this file anyway: file-N5jfzXQcesVvQX3Jr5xRPPK4\n",
            "Reusing already uploaded file: file-N5jfzXQcesVvQX3Jr5xRPPK4\n",
            "Found potentially duplicated files with name 'training_data_prepared_valid.jsonl', purpose 'fine-tune' and size 101194 bytes\n",
            "file-0SxkL6Ej9P4o9aDfuTJIOt7O\n",
            "file-cMBWX1xzSAJJppbpBsQvk00f\n",
            "Enter file ID to reuse an already uploaded file, or an empty string to upload this file anyway: file-0SxkL6Ej9P4o9aDfuTJIOt7O\n",
            "Reusing already uploaded file: file-0SxkL6Ej9P4o9aDfuTJIOt7O\n",
            "Created fine-tune: ft-Yb93z48MrvYcVmY87444QdyC\n",
            "Streaming events until fine-tuning is complete...\n",
            "\n",
            "(Ctrl-C will interrupt the stream, but not cancel the fine-tune)\n",
            "[2023-05-20 18:40:18] Created fine-tune: ft-Yb93z48MrvYcVmY87444QdyC\n",
            "\n",
            "Stream interrupted (client disconnected).\n",
            "To resume the stream, run:\n",
            "\n",
            "  openai api fine_tunes.follow -i ft-Yb93z48MrvYcVmY87444QdyC\n",
            "\n"
          ]
        }
      ],
      "source": [
        "# Fine-tuning the model using the prepared training data\n",
        "!openai --api-key '***' api fine_tunes.create -t \"training_data_prepared_train.jsonl\" -v \"training_data_prepared_valid.jsonl\" -m davinci"
      ]
    },
    {
      "cell_type": "code",
      "execution_count": null,
      "id": "48pM-0YfIRz5",
      "metadata": {
        "colab": {
          "base_uri": "https://localhost:8080/"
        },
        "id": "48pM-0YfIRz5",
        "outputId": "d23e7139-79e8-4a94-bc43-d86988185415"
      },
      "outputs": [
        {
          "name": "stdout",
          "output_type": "stream",
          "text": [
            "[2023-05-20 18:40:18] Created fine-tune: ft-Yb93z48MrvYcVmY87444QdyC\n",
            "[2023-05-20 18:44:22] Fine-tune costs $8.98\n",
            "[2023-05-20 18:44:23] Fine-tune enqueued. Queue number: 1\n",
            "[2023-05-20 18:54:39] Fine-tune is in the queue. Queue number: 3\n",
            "[2023-05-20 18:54:50] Fine-tune is in the queue. Queue number: 2\n",
            "[2023-05-20 18:55:26] Fine-tune is in the queue. Queue number: 1\n",
            "[2023-05-20 18:55:27] Fine-tune is in the queue. Queue number: 0\n",
            "[2023-05-20 18:58:52] Fine-tune started\n",
            "[2023-05-20 19:09:23] Completed epoch 1/4\n",
            "[2023-05-20 19:27:22] Completed epoch 3/4\n",
            "[2023-05-20 19:37:10] Uploaded model: davinci:ft-personal-2023-05-20-19-37-09\n",
            "[2023-05-20 19:37:11] Uploaded result file: file-fwtt7rTtdCdhs7lf6YTs5oJD\n",
            "[2023-05-20 19:37:12] Fine-tune succeeded\n",
            "\n",
            "Job complete! Status: succeeded 🎉\n",
            "Try out your fine-tuned model:\n",
            "\n",
            "openai api completions.create -m davinci:ft-personal-2023-05-20-19-37-09 -p <YOUR_PROMPT>\n"
          ]
        }
      ],
      "source": [
        " # Following the fine-tuning process to train the model further\n",
        "!openai --api-key '***' api fine_tunes.follow -i ft-Yb93z48MrvYcVmY87444QdyC"
      ]
    },
    {
      "cell_type": "markdown",
      "source": [
        "## Testing data set"
      ],
      "metadata": {
        "id": "kJ5bgC4MTXuE"
      },
      "id": "kJ5bgC4MTXuE"
    },
    {
      "cell_type": "markdown",
      "source": [
        "After training the model on the training dataset, our goal is to predict the sentences in the testing dataset. However, before proceeding with these predictions, we have to reformat the testing dataset to make it compatible with the model."
      ],
      "metadata": {
        "id": "QWBZKRWuTbuF"
      },
      "id": "QWBZKRWuTbuF"
    },
    {
      "cell_type": "code",
      "execution_count": null,
      "id": "eUAQHaPXO_pm",
      "metadata": {
        "colab": {
          "base_uri": "https://localhost:8080/",
          "height": 411
        },
        "id": "eUAQHaPXO_pm",
        "outputId": "4dd4b0b5-e239-4883-fe70-dd9c21d0060c"
      },
      "outputs": [
        {
          "data": {
            "text/html": [
              "\n",
              "  <div id=\"df-06d93b91-236c-44f6-add3-6ff2c7d22019\">\n",
              "    <div class=\"colab-df-container\">\n",
              "      <div>\n",
              "<style scoped>\n",
              "    .dataframe tbody tr th:only-of-type {\n",
              "        vertical-align: middle;\n",
              "    }\n",
              "\n",
              "    .dataframe tbody tr th {\n",
              "        vertical-align: top;\n",
              "    }\n",
              "\n",
              "    .dataframe thead th {\n",
              "        text-align: right;\n",
              "    }\n",
              "</style>\n",
              "<table border=\"1\" class=\"dataframe\">\n",
              "  <thead>\n",
              "    <tr style=\"text-align: right;\">\n",
              "      <th></th>\n",
              "      <th>prompt</th>\n",
              "      <th>completion</th>\n",
              "    </tr>\n",
              "  </thead>\n",
              "  <tbody>\n",
              "    <tr>\n",
              "      <th>0</th>\n",
              "      <td>I don't know what the economic bumps are going...</td>\n",
              "      <td>0.\\n</td>\n",
              "    </tr>\n",
              "    <tr>\n",
              "      <th>1</th>\n",
              "      <td>2 oven that will almost deliver as good as a p...</td>\n",
              "      <td>0.\\n</td>\n",
              "    </tr>\n",
              "    <tr>\n",
              "      <th>2</th>\n",
              "      <td>And so certainly, we have a lot of cost saving...</td>\n",
              "      <td>0.\\n</td>\n",
              "    </tr>\n",
              "    <tr>\n",
              "      <th>3</th>\n",
              "      <td>So it's only in back half as we continue our e...</td>\n",
              "      <td>0.\\n</td>\n",
              "    </tr>\n",
              "    <tr>\n",
              "      <th>4</th>\n",
              "      <td>We have worked hard to make real energy effici...</td>\n",
              "      <td>0.\\n</td>\n",
              "    </tr>\n",
              "    <tr>\n",
              "      <th>...</th>\n",
              "      <td>...</td>\n",
              "      <td>...</td>\n",
              "    </tr>\n",
              "    <tr>\n",
              "      <th>295</th>\n",
              "      <td>Focused on our waste combustion technologies, ...</td>\n",
              "      <td>0.\\n</td>\n",
              "    </tr>\n",
              "    <tr>\n",
              "      <th>296</th>\n",
              "      <td>As a responsible business Adani Group is commi...</td>\n",
              "      <td>0.\\n</td>\n",
              "    </tr>\n",
              "    <tr>\n",
              "      <th>297</th>\n",
              "      <td>Structural works on The Foundry (Building 2) a...</td>\n",
              "      <td>0.\\n</td>\n",
              "    </tr>\n",
              "    <tr>\n",
              "      <th>298</th>\n",
              "      <td>The carbon footprint per unit of GDP of the so...</td>\n",
              "      <td>0.\\n</td>\n",
              "    </tr>\n",
              "    <tr>\n",
              "      <th>299</th>\n",
              "      <td>Compliance with RGGI can be achieved by reduci...</td>\n",
              "      <td>0.\\n</td>\n",
              "    </tr>\n",
              "  </tbody>\n",
              "</table>\n",
              "<p>300 rows × 2 columns</p>\n",
              "</div>\n",
              "      <button class=\"colab-df-convert\" onclick=\"convertToInteractive('df-06d93b91-236c-44f6-add3-6ff2c7d22019')\"\n",
              "              title=\"Convert this dataframe to an interactive table.\"\n",
              "              style=\"display:none;\">\n",
              "        \n",
              "  <svg xmlns=\"http://www.w3.org/2000/svg\" height=\"24px\"viewBox=\"0 0 24 24\"\n",
              "       width=\"24px\">\n",
              "    <path d=\"M0 0h24v24H0V0z\" fill=\"none\"/>\n",
              "    <path d=\"M18.56 5.44l.94 2.06.94-2.06 2.06-.94-2.06-.94-.94-2.06-.94 2.06-2.06.94zm-11 1L8.5 8.5l.94-2.06 2.06-.94-2.06-.94L8.5 2.5l-.94 2.06-2.06.94zm10 10l.94 2.06.94-2.06 2.06-.94-2.06-.94-.94-2.06-.94 2.06-2.06.94z\"/><path d=\"M17.41 7.96l-1.37-1.37c-.4-.4-.92-.59-1.43-.59-.52 0-1.04.2-1.43.59L10.3 9.45l-7.72 7.72c-.78.78-.78 2.05 0 2.83L4 21.41c.39.39.9.59 1.41.59.51 0 1.02-.2 1.41-.59l7.78-7.78 2.81-2.81c.8-.78.8-2.07 0-2.86zM5.41 20L4 18.59l7.72-7.72 1.47 1.35L5.41 20z\"/>\n",
              "  </svg>\n",
              "      </button>\n",
              "      \n",
              "  <style>\n",
              "    .colab-df-container {\n",
              "      display:flex;\n",
              "      flex-wrap:wrap;\n",
              "      gap: 12px;\n",
              "    }\n",
              "\n",
              "    .colab-df-convert {\n",
              "      background-color: #E8F0FE;\n",
              "      border: none;\n",
              "      border-radius: 50%;\n",
              "      cursor: pointer;\n",
              "      display: none;\n",
              "      fill: #1967D2;\n",
              "      height: 32px;\n",
              "      padding: 0 0 0 0;\n",
              "      width: 32px;\n",
              "    }\n",
              "\n",
              "    .colab-df-convert:hover {\n",
              "      background-color: #E2EBFA;\n",
              "      box-shadow: 0px 1px 2px rgba(60, 64, 67, 0.3), 0px 1px 3px 1px rgba(60, 64, 67, 0.15);\n",
              "      fill: #174EA6;\n",
              "    }\n",
              "\n",
              "    [theme=dark] .colab-df-convert {\n",
              "      background-color: #3B4455;\n",
              "      fill: #D2E3FC;\n",
              "    }\n",
              "\n",
              "    [theme=dark] .colab-df-convert:hover {\n",
              "      background-color: #434B5C;\n",
              "      box-shadow: 0px 1px 3px 1px rgba(0, 0, 0, 0.15);\n",
              "      filter: drop-shadow(0px 1px 2px rgba(0, 0, 0, 0.3));\n",
              "      fill: #FFFFFF;\n",
              "    }\n",
              "  </style>\n",
              "\n",
              "      <script>\n",
              "        const buttonEl =\n",
              "          document.querySelector('#df-06d93b91-236c-44f6-add3-6ff2c7d22019 button.colab-df-convert');\n",
              "        buttonEl.style.display =\n",
              "          google.colab.kernel.accessAllowed ? 'block' : 'none';\n",
              "\n",
              "        async function convertToInteractive(key) {\n",
              "          const element = document.querySelector('#df-06d93b91-236c-44f6-add3-6ff2c7d22019');\n",
              "          const dataTable =\n",
              "            await google.colab.kernel.invokeFunction('convertToInteractive',\n",
              "                                                     [key], {});\n",
              "          if (!dataTable) return;\n",
              "\n",
              "          const docLinkHtml = 'Like what you see? Visit the ' +\n",
              "            '<a target=\"_blank\" href=https://colab.research.google.com/notebooks/data_table.ipynb>data table notebook</a>'\n",
              "            + ' to learn more about interactive tables.';\n",
              "          element.innerHTML = '';\n",
              "          dataTable['output_type'] = 'display_data';\n",
              "          await google.colab.output.renderOutput(dataTable, element);\n",
              "          const docLink = document.createElement('div');\n",
              "          docLink.innerHTML = docLinkHtml;\n",
              "          element.appendChild(docLink);\n",
              "        }\n",
              "      </script>\n",
              "    </div>\n",
              "  </div>\n",
              "  "
            ],
            "text/plain": [
              "                                                prompt completion\n",
              "0    I don't know what the economic bumps are going...       0.\\n\n",
              "1    2 oven that will almost deliver as good as a p...       0.\\n\n",
              "2    And so certainly, we have a lot of cost saving...       0.\\n\n",
              "3    So it's only in back half as we continue our e...       0.\\n\n",
              "4    We have worked hard to make real energy effici...       0.\\n\n",
              "..                                                 ...        ...\n",
              "295  Focused on our waste combustion technologies, ...       0.\\n\n",
              "296  As a responsible business Adani Group is commi...       0.\\n\n",
              "297  Structural works on The Foundry (Building 2) a...       0.\\n\n",
              "298  The carbon footprint per unit of GDP of the so...       0.\\n\n",
              "299  Compliance with RGGI can be achieved by reduci...       0.\\n\n",
              "\n",
              "[300 rows x 2 columns]"
            ]
          },
          "execution_count": 45,
          "metadata": {},
          "output_type": "execute_result"
        }
      ],
      "source": [
        "# Renaming columns and modifying data in the test DataFrame\n",
        "df_test = df_test.rename(columns={'text':'prompt','label':'completion'})\n",
        "df_test['completion'] = df_test['completion'].astype(str)\n",
        "df_test['prompt'] = df_test['prompt'] + '->'\n",
        "df_test['completion'] = ' ' + df_test['completion'] + '.\\n'"
      ]
    },
    {
      "cell_type": "code",
      "execution_count": null,
      "id": "5LHehHwPP-JE",
      "metadata": {
        "id": "5LHehHwPP-JE"
      },
      "outputs": [],
      "source": [
        "# Set the OpenAI API key using the API key\n",
        "api_key = '***'\n",
        "openai.api_key = api_key"
      ]
    },
    {
      "cell_type": "code",
      "execution_count": null,
      "id": "UYkHl-RgNVU3",
      "metadata": {
        "id": "UYkHl-RgNVU3"
      },
      "outputs": [],
      "source": [
        "# Make predictions for each sentence\n",
        "predictions = []\n",
        "for index, row in df_test.iterrows():\n",
        "    new_prompt = row[\"prompt\"]\n",
        "    answer = openai.Completion.create(\n",
        "        model=\"davinci:ft-personal-2023-05-20-19-37-09\",\n",
        "        prompt=new_prompt,\n",
        "        max_tokens=2,  # Adjust based on your desired prediction length\n",
        "        temperature=0,\n",
        "        top_p = 0.1\n",
        "    )\n",
        "    difficulty = answer.choices[0]['text']\n",
        "    predictions.append(difficulty)\n",
        "\n",
        "# Add the predictions to the dataframe\n",
        "df_test[\"pred\"] = predictions"
      ]
    },
    {
      "cell_type": "code",
      "execution_count": null,
      "id": "5-ySGK-7Sp9n",
      "metadata": {
        "colab": {
          "base_uri": "https://localhost:8080/",
          "height": 497
        },
        "id": "5-ySGK-7Sp9n",
        "outputId": "8956debb-4ed8-4d94-f012-14e78562f811"
      },
      "outputs": [
        {
          "name": "stderr",
          "output_type": "stream",
          "text": [
            "<ipython-input-49-33f1fe2fc88e>:2: FutureWarning: The default value of regex will change from True to False in a future version. In addition, single character regular expressions will *not* be treated as literal strings when regex=True.\n",
            "  df_test['completion'] = df_test['completion'].str.replace('.', '')\n",
            "<ipython-input-49-33f1fe2fc88e>:3: FutureWarning: The default value of regex will change from True to False in a future version. In addition, single character regular expressions will *not* be treated as literal strings when regex=True.\n",
            "  df_test['pred'] = df_test['pred'].str.replace('.', '')\n"
          ]
        },
        {
          "data": {
            "text/html": [
              "\n",
              "  <div id=\"df-8fdf5382-ae94-4039-a7ec-a899dedd8214\">\n",
              "    <div class=\"colab-df-container\">\n",
              "      <div>\n",
              "<style scoped>\n",
              "    .dataframe tbody tr th:only-of-type {\n",
              "        vertical-align: middle;\n",
              "    }\n",
              "\n",
              "    .dataframe tbody tr th {\n",
              "        vertical-align: top;\n",
              "    }\n",
              "\n",
              "    .dataframe thead th {\n",
              "        text-align: right;\n",
              "    }\n",
              "</style>\n",
              "<table border=\"1\" class=\"dataframe\">\n",
              "  <thead>\n",
              "    <tr style=\"text-align: right;\">\n",
              "      <th></th>\n",
              "      <th>prompt</th>\n",
              "      <th>completion</th>\n",
              "      <th>pred</th>\n",
              "    </tr>\n",
              "  </thead>\n",
              "  <tbody>\n",
              "    <tr>\n",
              "      <th>0</th>\n",
              "      <td>I don't know what the economic bumps are going...</td>\n",
              "      <td>0</td>\n",
              "      <td>0</td>\n",
              "    </tr>\n",
              "    <tr>\n",
              "      <th>1</th>\n",
              "      <td>2 oven that will almost deliver as good as a p...</td>\n",
              "      <td>0</td>\n",
              "      <td>0</td>\n",
              "    </tr>\n",
              "    <tr>\n",
              "      <th>2</th>\n",
              "      <td>And so certainly, we have a lot of cost saving...</td>\n",
              "      <td>0</td>\n",
              "      <td>0</td>\n",
              "    </tr>\n",
              "    <tr>\n",
              "      <th>3</th>\n",
              "      <td>So it's only in back half as we continue our e...</td>\n",
              "      <td>0</td>\n",
              "      <td>0</td>\n",
              "    </tr>\n",
              "    <tr>\n",
              "      <th>4</th>\n",
              "      <td>We have worked hard to make real energy effici...</td>\n",
              "      <td>0</td>\n",
              "      <td>0</td>\n",
              "    </tr>\n",
              "    <tr>\n",
              "      <th>...</th>\n",
              "      <td>...</td>\n",
              "      <td>...</td>\n",
              "      <td>...</td>\n",
              "    </tr>\n",
              "    <tr>\n",
              "      <th>295</th>\n",
              "      <td>Focused on our waste combustion technologies, ...</td>\n",
              "      <td>0</td>\n",
              "      <td>0</td>\n",
              "    </tr>\n",
              "    <tr>\n",
              "      <th>296</th>\n",
              "      <td>As a responsible business Adani Group is commi...</td>\n",
              "      <td>0</td>\n",
              "      <td>0</td>\n",
              "    </tr>\n",
              "    <tr>\n",
              "      <th>297</th>\n",
              "      <td>Structural works on The Foundry (Building 2) a...</td>\n",
              "      <td>0</td>\n",
              "      <td>0</td>\n",
              "    </tr>\n",
              "    <tr>\n",
              "      <th>298</th>\n",
              "      <td>The carbon footprint per unit of GDP of the so...</td>\n",
              "      <td>0</td>\n",
              "      <td>0</td>\n",
              "    </tr>\n",
              "    <tr>\n",
              "      <th>299</th>\n",
              "      <td>Compliance with RGGI can be achieved by reduci...</td>\n",
              "      <td>0</td>\n",
              "      <td>0</td>\n",
              "    </tr>\n",
              "  </tbody>\n",
              "</table>\n",
              "<p>300 rows × 3 columns</p>\n",
              "</div>\n",
              "      <button class=\"colab-df-convert\" onclick=\"convertToInteractive('df-8fdf5382-ae94-4039-a7ec-a899dedd8214')\"\n",
              "              title=\"Convert this dataframe to an interactive table.\"\n",
              "              style=\"display:none;\">\n",
              "        \n",
              "  <svg xmlns=\"http://www.w3.org/2000/svg\" height=\"24px\"viewBox=\"0 0 24 24\"\n",
              "       width=\"24px\">\n",
              "    <path d=\"M0 0h24v24H0V0z\" fill=\"none\"/>\n",
              "    <path d=\"M18.56 5.44l.94 2.06.94-2.06 2.06-.94-2.06-.94-.94-2.06-.94 2.06-2.06.94zm-11 1L8.5 8.5l.94-2.06 2.06-.94-2.06-.94L8.5 2.5l-.94 2.06-2.06.94zm10 10l.94 2.06.94-2.06 2.06-.94-2.06-.94-.94-2.06-.94 2.06-2.06.94z\"/><path d=\"M17.41 7.96l-1.37-1.37c-.4-.4-.92-.59-1.43-.59-.52 0-1.04.2-1.43.59L10.3 9.45l-7.72 7.72c-.78.78-.78 2.05 0 2.83L4 21.41c.39.39.9.59 1.41.59.51 0 1.02-.2 1.41-.59l7.78-7.78 2.81-2.81c.8-.78.8-2.07 0-2.86zM5.41 20L4 18.59l7.72-7.72 1.47 1.35L5.41 20z\"/>\n",
              "  </svg>\n",
              "      </button>\n",
              "      \n",
              "  <style>\n",
              "    .colab-df-container {\n",
              "      display:flex;\n",
              "      flex-wrap:wrap;\n",
              "      gap: 12px;\n",
              "    }\n",
              "\n",
              "    .colab-df-convert {\n",
              "      background-color: #E8F0FE;\n",
              "      border: none;\n",
              "      border-radius: 50%;\n",
              "      cursor: pointer;\n",
              "      display: none;\n",
              "      fill: #1967D2;\n",
              "      height: 32px;\n",
              "      padding: 0 0 0 0;\n",
              "      width: 32px;\n",
              "    }\n",
              "\n",
              "    .colab-df-convert:hover {\n",
              "      background-color: #E2EBFA;\n",
              "      box-shadow: 0px 1px 2px rgba(60, 64, 67, 0.3), 0px 1px 3px 1px rgba(60, 64, 67, 0.15);\n",
              "      fill: #174EA6;\n",
              "    }\n",
              "\n",
              "    [theme=dark] .colab-df-convert {\n",
              "      background-color: #3B4455;\n",
              "      fill: #D2E3FC;\n",
              "    }\n",
              "\n",
              "    [theme=dark] .colab-df-convert:hover {\n",
              "      background-color: #434B5C;\n",
              "      box-shadow: 0px 1px 3px 1px rgba(0, 0, 0, 0.15);\n",
              "      filter: drop-shadow(0px 1px 2px rgba(0, 0, 0, 0.3));\n",
              "      fill: #FFFFFF;\n",
              "    }\n",
              "  </style>\n",
              "\n",
              "      <script>\n",
              "        const buttonEl =\n",
              "          document.querySelector('#df-8fdf5382-ae94-4039-a7ec-a899dedd8214 button.colab-df-convert');\n",
              "        buttonEl.style.display =\n",
              "          google.colab.kernel.accessAllowed ? 'block' : 'none';\n",
              "\n",
              "        async function convertToInteractive(key) {\n",
              "          const element = document.querySelector('#df-8fdf5382-ae94-4039-a7ec-a899dedd8214');\n",
              "          const dataTable =\n",
              "            await google.colab.kernel.invokeFunction('convertToInteractive',\n",
              "                                                     [key], {});\n",
              "          if (!dataTable) return;\n",
              "\n",
              "          const docLinkHtml = 'Like what you see? Visit the ' +\n",
              "            '<a target=\"_blank\" href=https://colab.research.google.com/notebooks/data_table.ipynb>data table notebook</a>'\n",
              "            + ' to learn more about interactive tables.';\n",
              "          element.innerHTML = '';\n",
              "          dataTable['output_type'] = 'display_data';\n",
              "          await google.colab.output.renderOutput(dataTable, element);\n",
              "          const docLink = document.createElement('div');\n",
              "          docLink.innerHTML = docLinkHtml;\n",
              "          element.appendChild(docLink);\n",
              "        }\n",
              "      </script>\n",
              "    </div>\n",
              "  </div>\n",
              "  "
            ],
            "text/plain": [
              "                                                prompt completion pred\n",
              "0    I don't know what the economic bumps are going...          0    0\n",
              "1    2 oven that will almost deliver as good as a p...          0    0\n",
              "2    And so certainly, we have a lot of cost saving...          0    0\n",
              "3    So it's only in back half as we continue our e...          0    0\n",
              "4    We have worked hard to make real energy effici...          0    0\n",
              "..                                                 ...        ...  ...\n",
              "295  Focused on our waste combustion technologies, ...          0    0\n",
              "296  As a responsible business Adani Group is commi...          0    0\n",
              "297  Structural works on The Foundry (Building 2) a...          0    0\n",
              "298  The carbon footprint per unit of GDP of the so...          0    0\n",
              "299  Compliance with RGGI can be achieved by reduci...          0    0\n",
              "\n",
              "[300 rows x 3 columns]"
            ]
          },
          "execution_count": 49,
          "metadata": {},
          "output_type": "execute_result"
        }
      ],
      "source": [
        "# Modifying data in the test DataFrame\n",
        "df_test['completion'] = df_test['completion'].str.replace('\\n', '')\n",
        "df_test['completion'] = df_test['completion'].str.replace('.', '')\n",
        "df_test['pred'] = df_test['pred'].str.replace('.', '')\n",
        "df_test"
      ]
    },
    {
      "cell_type": "code",
      "execution_count": null,
      "id": "cLVh3yb2bEYF",
      "metadata": {
        "id": "cLVh3yb2bEYF"
      },
      "outputs": [],
      "source": [
        "# Saving the modified test DataFrame to a CSV file\n",
        "df_test.to_csv('df_test_davinci.csv', index=False)"
      ]
    },
    {
      "cell_type": "code",
      "execution_count": null,
      "id": "ZhqMPWOvQaK7",
      "metadata": {
        "id": "ZhqMPWOvQaK7"
      },
      "outputs": [],
      "source": [
        "# Converting the completion and prediction columns in the test DataFrame to integers so that our labels are integers, not strings --> to compute metrics\n",
        "y_test = df_test['completion'].astype(int)\n",
        "y_pred = df_test['pred'].astype(int)"
      ]
    },
    {
      "cell_type": "code",
      "execution_count": null,
      "id": "5Kn8U2zCQ4rw",
      "metadata": {
        "colab": {
          "base_uri": "https://localhost:8080/",
          "height": 668
        },
        "id": "5Kn8U2zCQ4rw",
        "outputId": "33305fa9-1058-442e-ec04-39e0461588f9"
      },
      "outputs": [
        {
          "name": "stdout",
          "output_type": "stream",
          "text": [
            "The accuracy using Da Vinci is: 90.00%\n",
            "The precision using Da Vinci is: 73.61%\n",
            "The recall using Da Vinci is: 82.81%\n"
          ]
        },
        {
          "data": {
            "image/png": "[encoded data removed]",
            "text/plain": [
              "<Figure size 800x700 with 2 Axes>"
            ]
          },
          "metadata": {},
          "output_type": "display_data"
        }
      ],
      "source": [
        "# Evaluate model\n",
        "accuracy = round(accuracy_score(y_test, y_pred), 4)\n",
        "precision = round(precision_score(y_test, y_pred), 4)\n",
        "recall = round(recall_score(y_test, y_pred), 4)\n",
        "print(f'The accuracy using Da Vinci is: {accuracy*100:0.2f}%')\n",
        "print(f'The precision using Da Vinci is: {precision*100:0.2f}%')\n",
        "print(f'The recall using Da Vinci is: {recall*100:0.2f}%')\n",
        "\n",
        "# Confusion matrix\n",
        "conf_mat = confusion_matrix(y_test, y_pred)\n",
        "fig, ax = plt.subplots(figsize=(8,7))\n",
        "sns.heatmap(conf_mat, annot=True, fmt='d')\n",
        "plt.ylabel('Actual')\n",
        "plt.xlabel('Predicted')\n",
        "plt.show() "
      ]
    },
    {
      "cell_type": "markdown",
      "source": [
        "When comparing the previous model developed in the main notebook (model_prediction.ipynb)\n",
        ", the use of GPT-3 Text classifier with davinci model yields superior results in all performance metrics, achieving an accuracy of 90.00%. This model outperforms the ada model (GPT_3_finetuning_ada.ipynb) in terms of performance as well.\n",
        "\n",
        "For a more detailed analysis of this table, we kindly refer the reader of this notebook to the accompanying README file, which can be found on the GitHub repository."
      ],
      "metadata": {
        "id": "B6SNDNzwT5Ye"
      },
      "id": "B6SNDNzwT5Ye"
    },
    {
      "cell_type": "code",
      "source": [],
      "metadata": {
        "id": "jLfFhZHimFdH"
      },
      "id": "jLfFhZHimFdH",
      "execution_count": null,
      "outputs": []
    }
  ],
  "metadata": {
    "colab": {
      "gpuType": "T4",
      "provenance": []
    },
    "gpuClass": "standard",
    "kernelspec": {
      "display_name": "Python 3 (ipykernel)",
      "language": "python",
      "name": "python3"
    },
    "language_info": {
      "codemirror_mode": {
        "name": "ipython",
        "version": 3
      },
      "file_extension": ".py",
      "mimetype": "text/x-python",
      "name": "python",
      "nbconvert_exporter": "python",
      "pygments_lexer": "ipython3",
      "version": "3.9.13"
    }
  },
  "nbformat": 4,
  "nbformat_minor": 5
}